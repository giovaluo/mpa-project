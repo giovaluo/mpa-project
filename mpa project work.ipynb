{
 "cells": [
  {
   "cell_type": "markdown",
   "id": "784a206c",
   "metadata": {},
   "source": [
    "# Generare il testo perfetto\n",
    "\n",
    "All'interno del Notebook progetto ci occupiamo di analizzare la **text generation** coinvolgendo l'utilizzo di tecniche e algoritmi dediti a questo scopo. La prima fase di questo processo prevederà l'analisi del dataset scelto. "
   ]
  },
  {
   "cell_type": "markdown",
   "id": "94bd9ea3",
   "metadata": {},
   "source": [
    "Membri del gruppo:\n",
    "- **Corbo Erika** (5086072)\n",
    "- **Luongo Giovanni** (5038815)"
   ]
  },
  {
   "cell_type": "code",
   "execution_count": 4,
   "id": "b81674c7",
   "metadata": {
    "tags": []
   },
   "outputs": [],
   "source": [
    "# Stopwords da ignorare per il preprocessing dei testi\n",
    "sw = [\"lj\", 'bop', 'jack','boogety', 'hmm', 'yay', 'aah', 'woo','nana', 'ohh','doo', 'ahha', 'aye','lee', 'ima','oohhohoooh', 'lou', 'louie', 'wopwopwop', 'neunundneunzig', 'iii', 'tho', 'dit', \"ll\", \"ll\", 'uhhuh', \"ln\", \"lo\", 'whoa', 'aweemaweh', \"look\", \"looking\", \"looks\", \"los\", \"lr\", \"ls\", \"ohohohohohohohohohohohoh\", \"romaromama\", \"lt\", \"ltd\", \"m\", \"m2\", \"ma\", \"made\", \"mainly\", \"make\", \"makes\", \"many\", \"may\", \"maybe\", \"me\", \"mean\", \"means\", \"meantime\", \"meanwhile\", \"merely\", \"mg\", \"might\", \"mightn\", \"mightn't\", \"mill\", \"million\", \"mine\", \"miss\", \"ml\", \"mn\", \"mo\", \"more\", \"moreover\", \"most\", \"mostly\", \"move\", \"mr\", \"mrs\", \"ms\", \"mt\", \"mu\", \"much\", \"mug\", \"must\", \"mustn\", \"mustnt\", \"my\", \"myself\", \"n\", \"n2\", \"na\", \"name\", \"namely\", \"nay\", \"nc\", \"nd\", \"ne\", \"near\", \"nearly\", \"necessarily\", \"necessary\", \"need\", \"needn\", \"needn't\", \"needs\", \"neither\", \"never\", \"nevertheless\", \"new\", \"next\", \"ng\", \"ni\", \"nine\", \"ninety\", \"nj\", \"nl\", \"nn\", \"no\", \"nobody\", \"non\", \"none\", \"nonetheless\", \"noone\", \"nor\", \"normally\", \"nos\", \"not\", \"noted\", \"nothing\", \"novel\", \"now\", \"nowhere\", \"nr\", \"ns\", \"nt\", \"ny\", \"o\", \"oa\", \"ob\", \"obtain\", \"obtained\", \"obviously\", \"oc\", \"od\", \"of\", \"off\", \"often\", \"og\", \"oh\", \"oi\", \"oj\", \"ok\", \"okay\", \"ol\", \"old\", \"om\", \"omitted\", \"on\", \"once\", \"one\", \"ones\", \"only\", \"onto\", \"oo\", \"op\", \"oq\", \"or\", \"ord\", \"os\", \"ot\", \"other\", \"others\", \"otherwise\", \"ou\", \"ought\", \"our\", \"ours\", \"ourselves\", \"out\", \"outside\", \"over\", \"overall\", \"ow\", \"owing\", \"own\", \"ox\", \"oz\", \"p\", \"p1\", \"p2\", \"p3\", \"page\", \"pagecount\", \"pages\", \"par\", \"part\", \"particular\", \"particularly\", \"pas\", \"past\", \"pc\", \"pd\", \"pe\", \"per\", \"perhaps\", \"pf\", \"ph\", \"pi\", \"pj\", \"pk\", \"pl\", \"placed\", \"please\", \"plus\", \"pm\", \"pn\", \"po\", \"poorly\", \"possible\", \"possibly\", \"potentially\", \"pp\", \"pq\", \"pr\", \"predominantly\", \"present\", \"presumably\", \"previously\", \"primarily\", \"probably\", \"promptly\", \"proud\", \"provides\", \"ps\", \"pt\", \"pu\", \"put\", \"py\", \"q\", \"qj\", \"qu\", \"que\", \"quickly\", \"quite\", \"qv\", \"r\", \"r2\", \"ra\", \"ran\", \"rather\", \"rc\", \"rd\", \"re\", \"readily\", \"really\", \"reasonably\", \"recent\", \"recently\", \"ref\", \"refs\", \"regarding\", \"regardless\", \"regards\", \"related\", \"relatively\", \"research\", \"research-articl\", \"respectively\", \"resulted\", \"resulting\", \"results\", \"rf\", \"rh\", \"ri\", \"right\", \"rj\", \"rl\", \"rm\", \"rn\", \"ro\", \"rq\", \"rr\", \"rs\", \"rt\", \"ru\", \"run\", \"rv\", \"ry\", \"s\", \"s2\", \"sa\", \"said\", \"same\", \"saw\", \"say\", \"saying\", \"says\", \"sc\", \"sd\", \"se\", \"sec\", \"second\", \"secondly\", \"section\", \"see\", \"seeing\", \"seem\", \"seemed\", \"seeming\", \"seems\", \"seen\", \"self\", \"selves\", \"sensible\", \"sent\", \"serious\", \"seriously\", \"seven\", \"several\", \"sf\", \"shall\", \"shan\", \"shan't\", \"she\", \"shed\", \"she'd\", \"she'll\", \"shes\", \"she's\", \"should\", \"shouldn\", \"shouldn't\", \"should've\", \"show\", \"showed\", \"shown\", \"showns\", \"shows\", \"si\", \"side\", \"significant\", \"significantly\", \"similar\", \"similarly\", \"since\", \"sincere\", \"six\", \"sixty\", \"sj\", \"sl\", \"slightly\", \"sm\", \"sn\", \"so\", \"some\", \"somebody\", \"somehow\", \"someone\", \"somethan\", \"something\", \"sometime\", \"sometimes\", \"somewhat\", \"somewhere\", \"soon\", \"sorry\", \"sp\", \"specifically\", \"specified\", \"specify\", \"specifying\", \"sq\", \"sr\", \"ss\", \"st\", \"still\", \"stop\", \"strongly\", \"sub\", \"substantially\", \"successfully\", \"such\", \"sufficiently\", \"suggest\", \"sup\", \"sure\", \"sy\", \"system\", \"sz\", \"t\", \"t1\", \"t2\", \"t3\", \"take\", \"taken\", \"taking\", \"tb\", \"tc\", \"td\", \"te\", \"tell\", \"ten\", \"tends\", \"tf\", \"th\", \"than\", \"thank\", \"thanks\", \"thanx\", \"that\", \"that'll\", \"thats\", \"that's\", \"that've\", \"the\", \"their\", \"theirs\", \"them\", \"themselves\", \"then\", \"thence\", \"there\", \"thereafter\", \"thereby\", \"thered\", \"therefore\", \"therein\", \"there'll\", \"thereof\", \"therere\", \"theres\", \"there's\", \"thereto\", \"thereupon\", \"there've\", \"these\", \"they\", \"theyd\", \"theyd\", \"theyll\", \"theyre\", \"they're\", \"they've\", \"thickv\", \"thin\", \"think\", \"third\", \"this\", \"thorough\", \"thoroughly\", \"those\", \"thou\", \"though\", \"thoughh\", \"thousand\", \"three\", \"throug\", \"through\", \"throughout\", \"thru\", \"thus\", \"ti\", \"til\", \"tip\", \"tj\", \"tl\", \"tm\", \"tn\", \"to\", \"together\", \"too\", \"took\", \"top\", \"toward\", \"towards\", \"tp\", \"tq\", \"tr\", \"tried\", \"tries\", \"truly\", \"try\", \"trying\", \"ts\", \"t's\", \"tt\", \"tv\", \"twelve\", \"twenty\", \"twice\", \"two\", \"tx\", \"u\", \"u201d\", \"ue\", \"ui\", \"uj\", \"uk\", \"um\", \"un\", \"under\", \"unfortunately\", \"unless\", \"unlike\", \"unlikely\", \"until\", \"unto\", \"uo\", \"up\", \"upon\", \"ups\", \"ur\", \"us\", \"use\", \"used\", \"useful\", \"usefully\", \"usefulness\", \"uses\", \"using\", \"usually\", \"ut\", \"v\", \"va\", \"value\", \"various\", \"vd\", \"ve\", \"ve\", \"very\", \"via\", \"viz\", \"vj\", \"vo\", \"vol\", \"vols\", \"volumtype\", \"vq\", \"vs\", \"vt\", \"vu\", \"w\", \"wa\", \"want\", \"wants\", \"was\", \"wasn\", \"wasnt\", \"wasn't\", \"way\", \"we\", \"wed\", \"we'd\", \"welcome\", \"well\", \"we'll\", \"well-b\", \"went\", \"were\", \"we're\", \"weren\", \"werent\", \"weren't\", \"we've\", \"what\", \"whatever\", \"whatll\", \"whats\", \"whats\", \"when\", \"whence\", \"whenever\", \"when's\", \"where\", \"whereafter\", \"whereas\", \"whereby\", \"wherein\", \"wheres\", \"where's\", \"whereupon\", \"wherever\", \"whether\", \"which\", \"while\", \"whim\", \"whither\", \"who\", \"whod\", \"whoever\", \"whole\", \"who'll\", \"whom\", \"whomever\", \"whos\", \"who's\", \"whose\", \"why\", \"why's\", \"wi\", \"widely\", \"will\", \"willing\", \"wish\", \"with\", \"within\", \"without\", \"wo\", \"won\", \"wonder\", \"wont\", \"won't\", \"words\", \"world\", \"would\", \"wouldn\", \"wouldnt\", \"wouldn't\", \"www\", \"x\", \"x1\", \"x2\", \"x3\", \"xf\", \"xi\", \"xj\", 'ohiohiohiohi', 'hows', 'roni', \"xk\", \"xl\", \"xn\", \"xo\", \"xs\", \"xt\", \"xv\", \"xx\", \"y\", \"y2\", \"yes\", \"yet\", \"yj\", \"yl\", \"you\", \"youd\", \"you'd\", \"you'll\", \"your\", \"youre\", \"you're\", \"yours\", \"yourself\", \"yourselves\", \"you've\", \"yr\", \"ys\", \"yt\", \"z\", \"zero\", \"zi\", \"zz\", 'i', 'shit', 'nigga', 'fuck', 'me', 'my', 'myself', 'we', 'our', 'chariots', 'ours', 'whoaohohoh', 'niggas', 'bitch', 'bang', 'ourselves', 'you', \"youre\", \"youve\", \"youll\", \"youd\", 'your', 'yours', 'yourself', 'yourselves', 'he', 'him', 'his', 'himself', 'she', \"shes\", 'her', 'hers', 'herself', 'it', 'its', 'itself', 'they', 'them', 'their', 'theirs', 'themselves', 'what', 'which', 'who', 'whom', 'this', 'that', \"thatll\", 'these', 'those', 'am', 'is', 'are', 'was', 'were', 'be', 'been', 'being', 'have', 'has', 'had', 'having', 'do', 'does', 'did', 'doing', 'mick', 'g', 'whoaoh', 'a', 'an', 'the', 'and', 'but', 'if', 'or', 'because', 'as', 'until', 'while', 'of', 'at', 'by', 'for', 'with', 'about', 'against', 'between', 'into', 'through', 'during', 'before', 'after', 'above', 'below', 'to', 'from', 'up', 'down', 'in', 'out', 'on', 'off', 'over','under', 'again', 'further', 'then', 'once', 'here', 'there', 'when', 'where', 'why', 'how', 'all', 'wiggle', 'lalalalalalala', 'any', 'both', 'each', 'few', 'more', 'most', 'other', 'some', 'such', 'no', 'nor', 'not', 'only', 'own', 'same', 'so', 'than', 'too', 'very', 's', 't','can', 'will', 'just', 'don', \"dont\", 'should', \"shouldve\", 'now', 'd', 'll', 'm', 'o', 're', 've', 'y', 'ain', 'aren', \"arent\", 'couldn', \"couldnt\", 'didn', \"didnt\", 'doesn', \"doesnt\", 'hadn', \"hadnt\", 'hasn', \"hasnt\", 'haven', \"havent\", 'isn', \"isnt\", 'ma', 'mightn', \"mightnt\", 'mustn', \"mustnt\", 'needn', \"neednt\", 'shan', \"shant\", 'shouldn', \"shouldnt\", 'wasn', \"wasnt\", 'weren', \"werent\", 'won', \"wont\", 'wouldn', \"wouldnt\", 'de', 'la', 'que', 'el', 'en', 'y', 'a', 'los', 'del', 'se', 'las', 'por', 'un', 'para', 'con', 'no', 'una', 'su', 'al', 'lo', 'como', 'más', 'pero', 'sus', 'le', 'ya', 'o', 'este', 'sí', 'porque', 'esta', 'entre', 'cuando', 'muy', 'yall', 'sin', 'sobre', 'también', 'me', 'hasta', 'hay', 'donde', 'quien', 'desde', 'todo', 'nos', 'durante', 'todos', 'uno', 'les', 'ni', 'contra', 'otros', 'ese', 'eso', 'ante', 'ellos', 'e', 'esto', 'mí', 'antes', 'algunos', 'qué', 'unos', 'yo', 'otro', 'otras', 'otra', 'él', 'tanto', 'esa', 'estos', 'mucho', 'quienes', 'nada', 'muchos', 'cual', 'poco', 'ella', 'estar', 'estas', 'algunas', 'algo', 'nosotros', 'mi', 'mis', 'tú', 'te', 'ti', 'tu', 'tus', 'ellas', 'nosotras', 'vosotros', 'vosotras', 'os', 'mío', 'mía', 'míos', 'mías', 'tuyo', 'tuya', 'tuyos', 'tuyas', 'suyo', 'suya', 'suyos', 'suyas', 'nuestro', 'nuestra', 'nuestros', 'nuestras', 'vuestro', 'vuestra', 'vuestros', 'vuestras', 'esos', 'esas', 'estoy', 'estás', 'está', 'estamos', 'estáis', 'están', 'esté', 'estés', 'estemos', 'estéis', 'estén', 'estaré', 'estarás', 'estará', 'estaremos', 'estaréis', 'estarán', 'estaría', 'estarías', 'estaríamos', 'estaríais', 'estarían', 'estaba', 'estabas', 'estábamos', 'estabais', 'estaban', 'estuve', 'estuviste', 'estuvo', 'estuvimos', 'estuvisteis', 'estuvieron', 'estuviera', 'estuvieras', 'estuviéramos', 'estuvierais', 'estuvieran', 'estuviese', 'estuvieses', 'estuviésemos', 'estuvieseis', 'estuviesen', 'estando', 'estado', 'estada', 'estados', 'estadas', 'estad', 'he', 'has', 'ha', 'hemos', 'habéis', 'han', 'haya', 'hayas', 'hayamos', 'hayáis', 'hayan', 'habré', 'habrás', 'habrá', 'habremos', 'habréis', 'habrán', 'habría', 'habrías', 'habríamos', 'habríais', 'habrían', 'había', 'habías', 'habíamos', 'habíais', 'habían', 'hube', 'hubiste', 'hubo', 'hubimos', 'hubisteis', 'hubieron', 'hubiera', 'hubieras', 'hubiéramos', 'hubierais', 'hubieran', 'hubiese', 'hubieses', 'hubiésemos', 'hubieseis', 'hubiesen', 'habiendo', 'habido', 'habida', 'habidos', 'habidas', 'soy', 'eres', 'es', 'somos', 'sois', 'son', 'sea', 'seas', 'seamos', 'seáis', 'sean', 'seré', 'serás', 'será', 'seremos', 'seréis', 'serán', 'sería', 'serías', 'seríamos', 'seríais', 'serían', 'era', 'eras', 'éramos', 'erais', 'eran', 'fui', 'fuiste', 'fue', 'fuimos', 'fuisteis', 'fueron', 'fuera', 'fueras', 'fuéramos', 'fuerais', 'fueran', 'fuese', 'fueses', 'fuésemos', 'fueseis', 'fuesen', 'sintiendo', 'sentido', 'sentida', 'sentidos', 'sentidas', 'siente', 'sentid', 'tengo', 'tienes', 'tiene', 'tenemos', 'tenéis', 'tienen', 'tenga', 'tengas', 'tengamos', 'tengáis', 'tengan', 'tendré', 'tendrás', 'tendrá', 'tendremos', 'tendréis', 'tendrán', 'tendría', 'tendrías', 'tendríamos', 'tendríais', 'tendrían', 'tenía', 'tenías', 'teníamos', 'teníais', 'tenían', 'tuve', 'tuviste', 'tuvo', 'tuvimos', 'tuvisteis', 'tuvieron', 'tuviera', 'tuvieras', 'tuviéramos', 'tuvierais', 'tuvieran', 'tuviese', 'tuvieses', 'tuviésemos', 'tuvieseis', 'tuviesen', 'teniendo', 'tenido', 'tenida', 'tenidos', 'tenidas', 'tened','yeah', 'uh', 'ayy', 'ta', 'oohooh','ah', 'uh', 'ooh',\"i\", \"me\", \"my\", \"myself\", \"we\", \"our\", \"ours\", \"ourselves\", \"you\", \"your\", \"yours\", \"yourself\", \"yourselves\", \"he\", \"him\", \"his\", \"himself\", \"she\", \"her\", \"hers\", \"herself\", \"it\", \"its\", \"itself\", \"they\", \"them\", \"their\", \"theirs\", \"themselves\", \"what\", \"which\", \"who\", \"whom\", \"this\", \"that\", \"these\", \"those\", \"am\", \"is\", \"are\", \"was\", \"were\", \"be\", \"been\", \"being\", \"have\", \"has\", \"had\", \"having\", \"do\", \"does\", \"did\", \"doing\", \"a\", \"an\", \"the\", \"and\", \"but\", \"if\", \"or\", \"because\", \"as\", \"until\", \"while\", \"of\", \"at\", \"by\", \"for\", \"with\", \"about\", \"against\", \"between\", \"into\", \"through\", \"during\", \"before\", \"after\", \"above\", \"below\", \"to\", \"from\", \"up\", \"down\", \"in\", \"out\", \"on\", \"off\", \"over\", \"under\", \"again\", \"further\", \"then\", \"once\", \"here\", \"there\", \"when\", \"where\", \"why\", \"how\", \"all\", \"any\", \"both\", \"each\", \"few\", \"more\", \"most\", \"other\", \"some\", \"such\", \"no\", \"nor\", \"not\", \"only\", \"own\", \"same\", \"so\", \"than\", \"too\", \"very\", \"s\", \"t\", \"can\", \"will\", \"just\", \"don\", \"should\", \"now\",'oh', 'ill', 'ive', 'hey', 'wan', 'gon', 'aint', \"0o\", \"0s\", \"3a\", \"3b\", \"3d\", \"6b\", \"6o\", \"a\", \"a1\", \"a2\", \"a3\", \"a4\", \"ab\", \"able\", \"about\", \"above\", \"abst\", \"ac\", \"accordance\", \"according\", \"accordingly\", \"across\", \"act\", \"actually\", \"ad\", \"added\", \"adj\", \"ae\", \"af\", \"affected\", \"affecting\", \"affects\", \"after\", \"afterwards\", \"ag\", \"again\", \"against\", \"ah\", \"ain\", \"ain't\", \"aj\", \"al\", \"all\", \"allow\", \"allows\", \"almost\", \"alone\", \"along\", \"already\", \"also\", \"although\", \"always\", \"am\", \"among\", \"amongst\", \"amoungst\", \"amount\", \"an\", \"and\", \"announce\", \"another\", \"any\", \"anybody\", \"anyhow\", \"anymore\", \"anyone\", \"anything\", \"anyway\", \"anyways\", \"anywhere\", \"ao\", \"ap\", \"apart\", \"apparently\", \"appear\", \"appreciate\", \"appropriate\", \"approximately\", \"ar\", \"are\", \"aren\", \"arent\", \"aren't\", \"arise\", \"around\", \"as\", \"a's\", \"aside\", \"ask\", \"asking\", \"associated\", \"at\", \"au\", \"auth\", \"av\", \"available\", \"aw\", \"away\", \"awfully\", \"ax\", \"ay\", \"az\", \"b\", \"b1\", \"b2\", \"b3\", \"ba\", \"back\", \"bc\", \"bd\", \"be\", \"became\", \"because\", \"become\", \"becomes\", \"becoming\", \"been\", \"before\", \"beforehand\", \"begin\", \"beginning\", \"beginnings\", \"begins\", \"behind\", \"being\", \"believe\", \"below\", \"beside\", \"besides\", \"best\", \"better\", \"between\", \"beyond\", \"bi\", \"bill\", \"biol\", \"bj\", \"bk\", \"bl\", \"bn\", \"both\", \"bottom\", \"bp\", \"br\", \"brief\", \"briefly\", \"bs\", \"bt\", \"bu\", \"but\", \"bx\", \"by\", \"c\", \"c1\", \"c2\", \"c3\", \"ca\", \"call\", \"came\", \"can\", \"cannot\", \"cant\", \"can't\", \"cause\", \"causes\", \"cc\", \"cd\", \"ce\", \"certain\", \"certainly\", \"cf\", \"cg\", \"ch\", \"changes\", \"ci\", \"cit\", \"cj\", \"cl\", \"clearly\", \"cm\", \"c'mon\", \"cn\", \"co\", \"com\", \"come\", \"comes\", \"con\", \"concerning\", \"consequently\", \"consider\", \"considering\", \"contain\", \"containing\", \"contains\", \"corresponding\", \"could\", \"couldn\", \"couldnt\", \"couldn't\", \"course\", \"cp\", \"cq\", \"cr\", \"cry\", \"cs\", \"c's\", \"ct\", \"cu\", \"currently\", \"cv\", \"cx\", \"cy\", \"cz\", \"d\", \"d2\", \"da\", \"date\", \"dc\", \"dd\", \"de\", \"definitely\", \"describe\", \"described\", \"despite\", \"detail\", \"df\", \"di\", \"did\", \"didn\", \"didn't\", \"different\", \"dj\", \"dk\", \"dl\", \"do\", \"does\", \"doesn\", \"doesn't\", \"doing\", \"don\", \"done\", \"don't\", \"down\", \"downwards\", \"dp\", \"dr\", \"ds\", \"dt\", \"du\", \"due\", \"during\", \"dx\", \"dy\", \"e\", \"e2\", \"e3\", \"ea\", \"each\", \"ec\", \"ed\", \"edu\", \"ee\", \"ef\", \"effect\", \"eg\", \"ei\", \"eight\", \"eighty\", \"either\", \"ej\", \"el\", \"eleven\", \"else\", \"elsewhere\", \"em\", \"empty\", \"en\", \"end\", \"ending\", \"enough\", \"entirely\", \"eo\", \"ep\", \"eq\", \"er\", \"es\", \"especially\", \"est\", \"et\", \"et-al\", \"etc\", \"eu\", \"ev\", \"even\", \"ever\", \"every\", \"everybody\", \"everyone\", \"everything\", \"everywhere\", \"ex\", \"exactly\", \"example\", \"except\", \"ey\", \"f\", \"f2\", \"fa\", \"far\", \"fc\", \"few\", \"ff\", \"fi\", \"fifteen\", \"fifth\", \"fify\", \"fill\", \"find\", \"fire\", \"first\", \"five\", \"fix\", \"fj\", \"fl\", \"fn\", \"fo\", \"followed\", \"following\", \"follows\", \"for\", \"former\", \"formerly\", \"forth\", \"forty\", \"found\", \"four\", \"fr\", \"from\", \"front\", \"fs\", \"ft\", \"fu\", \"full\", \"further\", \"furthermore\", \"fy\", \"g\", \"ga\", \"gave\", \"ge\", \"get\", \"gets\", \"getting\", \"gi\", \"give\", \"given\", \"gives\", \"giving\", \"gj\", \"gl\", \"go\", \"goes\", \"going\", \"gone\", \"got\", \"gotten\", \"gr\", \"greetings\", \"gs\", \"gy\", \"h\", \"h2\", \"h3\", \"had\", \"hadn\", \"hadn't\", \"happens\", \"hardly\", \"has\", \"hasn\", \"hasnt\", \"hasn't\", \"have\", \"haven\", \"haven't\", \"having\", \"he\", \"hed\", \"he'd\", \"he'll\", \"hello\", \"help\", \"hence\", \"her\", \"here\", \"hereafter\", \"hereby\", \"herein\", \"heres\", \"here's\", \"hereupon\", \"hers\", \"herself\", \"hes\", \"he's\", \"hh\", \"hi\", \"hid\", \"him\", \"himself\", \"his\", \"hither\", \"hj\", \"ho\", \"home\", \"hopefully\", \"how\", \"howbeit\", \"however\", \"how's\", \"hr\", \"hs\", \"http\", \"hu\", \"hundred\", \"hy\", \"i\", \"i2\", \"i3\", \"i4\", \"i6\", \"i7\", \"i8\", \"ia\", \"ib\", \"ibid\", \"ic\", \"id\", \"i'd\", \"ie\", \"if\", \"ig\", \"ignored\", \"ih\", \"ii\", \"ij\", \"il\", \"i'll\", \"im\", \"i'm\", \"immediate\", \"immediately\", \"importance\", \"important\", \"in\", 'loveydovey', 'freekn', 'ouh', 'shoodoodoo', 'domo', 'ronronron', 'ron', 'ronron', \"inasmuch\", \"inc\", \"indeed\", \"index\", \"indicate\", \"indicated\", \"indicates\", \"information\", \"inner\", \"insofar\", \"instead\", \"interest\", \"into\", \"invention\", \"inward\", \"io\", \"ip\", \"iq\", \"ir\", \"is\", \"isn\", \"isn't\", \"it\", \"itd\", \"it'd\", \"it'll\", \"its\", \"it's\", \"itself\", \"iv\", \"i've\", \"ix\", \"iy\", \"iz\", \"j\", \"jj\", \"jr\", \"js\", \"jt\", \"ju\", \"just\", \"k\", \"ke\", \"keep\", \"keeps\", \"kept\", \"kg\", \"kj\", \"km\", \"know\", \"known\", \"knows\", \"ko\", \"l\", \"l2\", \"la\", \"largely\", \"last\", \"lately\", \"later\", \"latter\", \"latterly\", \"lb\", \"lc\", \"le\", \"least\", \"les\", \"less\", \"lest\", \"let\", \"lets\", \"let's\", \"lf\", \"like\", \"liked\", \"likely\", \"line\", \"little\", 'aa', 'aaaaaaaah', 'aaaaaalcohol', 'aaaaalllll', 'aaaall', 'aaaand', 'aaah', 'aaall', 'aaalthough', 'aaant', 'heyyeah', 'ahaaw', 'coco', 'killas', 'ahooh', 'witchu', 'shack', 'yeahyeah', 'jessies' 'rhonda', 'ron','sha', 'shabada', 'shabadaca']"
   ]
  },
  {
   "cell_type": "code",
   "execution_count": 5,
   "id": "ac264ee6",
   "metadata": {
    "tags": []
   },
   "outputs": [],
   "source": [
    "# Librerie utilizzate\n",
    "import io\n",
    "import re\n",
    "import string\n",
    "import pandas as pd\n",
    "import numpy as np\n",
    "import matplotlib.pyplot as plt\n",
    "plt.style.use('seaborn-v0_8') # Per rendere i plot più belli\n",
    "import seaborn as sns\n",
    "sns.set(context='talk', style='ticks')\n",
    "import random\n",
    "import pickle\n",
    "import tensorflow\n",
    "import keras\n",
    "from collections import Counter\n",
    "\n",
    "# Librerie necessarie da sklearn\n",
    "from sklearn.feature_extraction.text import TfidfVectorizer\n",
    "from sklearn.cluster import KMeans\n",
    "from sklearn.decomposition import PCA\n",
    "from sklearn.feature_extraction.text import CountVectorizer\n",
    "from sklearn.decomposition import LatentDirichletAllocation\n",
    "\n",
    "# Natural language toolkit\n",
    "import nltk\n",
    "from nltk.corpus import stopwords\n",
    "from nltk.tokenize import word_tokenize\n",
    "from nltk.tokenize import RegexpTokenizer\n",
    "from nltk import FreqDist\n",
    "from nltk import ngrams\n",
    "\n",
    "# Word2vec\n",
    "from gensim.models import Word2Vec\n",
    "%matplotlib inline"
   ]
  },
  {
   "cell_type": "code",
   "execution_count": null,
   "id": "683afc8d",
   "metadata": {
    "tags": []
   },
   "outputs": [],
   "source": [
    "nltk.download('punkt')\n",
    "nltk.download('stopwords')\n",
    "nltk.download('averaged_perceptron_tagger')\n",
    "nltk.download('stopwords')"
   ]
  },
  {
   "cell_type": "markdown",
   "id": "93b4b1a2",
   "metadata": {},
   "source": [
    "# 1. Analisi dei dati"
   ]
  },
  {
   "cell_type": "code",
   "execution_count": 47,
   "id": "fda26e3b",
   "metadata": {
    "tags": []
   },
   "outputs": [
    {
     "name": "stdout",
     "output_type": "stream",
     "text": [
      "Numero di canzoni:  (6879, 5)\n"
     ]
    }
   ],
   "source": [
    "filename = \"billboard_top_100.csv\"\n",
    "df = pd.read_csv(filename)\n",
    "# Numero di canzoni nel dataset\n",
    "print(\"Numero di canzoni: \", df.shape)"
   ]
  },
  {
   "cell_type": "code",
   "execution_count": 48,
   "id": "15d1b73f",
   "metadata": {
    "tags": []
   },
   "outputs": [
    {
     "name": "stdout",
     "output_type": "stream",
     "text": [
      "Numero di canzoni:  (995, 5)\n"
     ]
    }
   ],
   "source": [
    "# Per avere un df contenente solo canzoni degli anni [2010-2020]:\n",
    "df = df.loc[(df['Hot100 Ranking Year'] >= 2010) & (df['Hot100 Ranking Year'] < 2020)]\n",
    "\n",
    "print(\"Numero di canzoni: \", df.shape)"
   ]
  },
  {
   "cell_type": "markdown",
   "id": "f65eee6a",
   "metadata": {},
   "source": [
    "## 1.1. Pulizia dei dati\n",
    "\n",
    "Prima di cominciare con le nostre analisi, dobbiamo rendere i testi delle canzoni manipolabili. Il dataset contiene i testi delle canzoni in un formato poco comodo per l'analisi."
   ]
  },
  {
   "cell_type": "code",
   "execution_count": 49,
   "id": "2f075b87",
   "metadata": {
    "tags": []
   },
   "outputs": [
    {
     "data": {
      "text/html": [
       "<div>\n",
       "<style scoped>\n",
       "    .dataframe tbody tr th:only-of-type {\n",
       "        vertical-align: middle;\n",
       "    }\n",
       "\n",
       "    .dataframe tbody tr th {\n",
       "        vertical-align: top;\n",
       "    }\n",
       "\n",
       "    .dataframe thead th {\n",
       "        text-align: right;\n",
       "    }\n",
       "</style>\n",
       "<table border=\"1\" class=\"dataframe\">\n",
       "  <thead>\n",
       "    <tr style=\"text-align: right;\">\n",
       "      <th></th>\n",
       "      <th>Song</th>\n",
       "      <th>Artist Names</th>\n",
       "      <th>Hot100 Ranking Year</th>\n",
       "      <th>Hot100 Rank</th>\n",
       "      <th>Lyrics</th>\n",
       "    </tr>\n",
       "  </thead>\n",
       "  <tbody>\n",
       "    <tr>\n",
       "      <th>5584</th>\n",
       "      <td>TiK ToK</td>\n",
       "      <td>['kesha']</td>\n",
       "      <td>2010</td>\n",
       "      <td>1</td>\n",
       "      <td>['wake', 'up', 'in', 'the', 'mornin', 'feelin'...</td>\n",
       "    </tr>\n",
       "    <tr>\n",
       "      <th>5585</th>\n",
       "      <td>Need You Now</td>\n",
       "      <td>['lady a']</td>\n",
       "      <td>2010</td>\n",
       "      <td>2</td>\n",
       "      <td>['picture', 'perfect', 'memories', 'scattered'...</td>\n",
       "    </tr>\n",
       "    <tr>\n",
       "      <th>5586</th>\n",
       "      <td>Hey, Soul Sister</td>\n",
       "      <td>['train']</td>\n",
       "      <td>2010</td>\n",
       "      <td>3</td>\n",
       "      <td>['hey', 'hey', 'hey', 'your', 'lipstick', 'sta...</td>\n",
       "    </tr>\n",
       "    <tr>\n",
       "      <th>5587</th>\n",
       "      <td>California Gurls</td>\n",
       "      <td>['katy perry', 'snoop dogg']</td>\n",
       "      <td>2010</td>\n",
       "      <td>4</td>\n",
       "      <td>['greetings', 'loved', 'ones', 'lets', 'take',...</td>\n",
       "    </tr>\n",
       "    <tr>\n",
       "      <th>5588</th>\n",
       "      <td>OMG (feat. will.i.am)</td>\n",
       "      <td>['usher', 'will i am']</td>\n",
       "      <td>2010</td>\n",
       "      <td>5</td>\n",
       "      <td>['oh', 'my', 'gosh', 'baby', 'let', 'me', 'l',...</td>\n",
       "    </tr>\n",
       "  </tbody>\n",
       "</table>\n",
       "</div>"
      ],
      "text/plain": [
       "                       Song                  Artist Names  \\\n",
       "5584                TiK ToK                     ['kesha']   \n",
       "5585           Need You Now                    ['lady a']   \n",
       "5586       Hey, Soul Sister                     ['train']   \n",
       "5587       California Gurls  ['katy perry', 'snoop dogg']   \n",
       "5588  OMG (feat. will.i.am)        ['usher', 'will i am']   \n",
       "\n",
       "      Hot100 Ranking Year  Hot100 Rank  \\\n",
       "5584                 2010            1   \n",
       "5585                 2010            2   \n",
       "5586                 2010            3   \n",
       "5587                 2010            4   \n",
       "5588                 2010            5   \n",
       "\n",
       "                                                 Lyrics  \n",
       "5584  ['wake', 'up', 'in', 'the', 'mornin', 'feelin'...  \n",
       "5585  ['picture', 'perfect', 'memories', 'scattered'...  \n",
       "5586  ['hey', 'hey', 'hey', 'your', 'lipstick', 'sta...  \n",
       "5587  ['greetings', 'loved', 'ones', 'lets', 'take',...  \n",
       "5588  ['oh', 'my', 'gosh', 'baby', 'let', 'me', 'l',...  "
      ]
     },
     "execution_count": 49,
     "metadata": {},
     "output_type": "execute_result"
    }
   ],
   "source": [
    "df.head()"
   ]
  },
  {
   "cell_type": "markdown",
   "id": "040deeca",
   "metadata": {},
   "source": [
    "Come prima cosa, modifichiamo il formato dei testi per renderli liste di parole. In seguito ci occuperemo di trasformarli in stringhe continue, ma all'inizio ci è più comodo tenerli come liste."
   ]
  },
  {
   "cell_type": "code",
   "execution_count": 50,
   "id": "657e7d1a",
   "metadata": {
    "tags": []
   },
   "outputs": [
    {
     "data": {
      "text/html": [
       "<div>\n",
       "<style scoped>\n",
       "    .dataframe tbody tr th:only-of-type {\n",
       "        vertical-align: middle;\n",
       "    }\n",
       "\n",
       "    .dataframe tbody tr th {\n",
       "        vertical-align: top;\n",
       "    }\n",
       "\n",
       "    .dataframe thead th {\n",
       "        text-align: right;\n",
       "    }\n",
       "</style>\n",
       "<table border=\"1\" class=\"dataframe\">\n",
       "  <thead>\n",
       "    <tr style=\"text-align: right;\">\n",
       "      <th></th>\n",
       "      <th>Song</th>\n",
       "      <th>Artist Names</th>\n",
       "      <th>Hot100 Ranking Year</th>\n",
       "      <th>Hot100 Rank</th>\n",
       "      <th>Lyrics</th>\n",
       "    </tr>\n",
       "  </thead>\n",
       "  <tbody>\n",
       "    <tr>\n",
       "      <th>5584</th>\n",
       "      <td>TiK ToK</td>\n",
       "      <td>['kesha']</td>\n",
       "      <td>2010</td>\n",
       "      <td>1</td>\n",
       "      <td>[wake, up, in, the, mornin, feelin, like, p, d...</td>\n",
       "    </tr>\n",
       "    <tr>\n",
       "      <th>5585</th>\n",
       "      <td>Need You Now</td>\n",
       "      <td>['lady a']</td>\n",
       "      <td>2010</td>\n",
       "      <td>2</td>\n",
       "      <td>[picture, perfect, memories, scattered, all, a...</td>\n",
       "    </tr>\n",
       "    <tr>\n",
       "      <th>5586</th>\n",
       "      <td>Hey, Soul Sister</td>\n",
       "      <td>['train']</td>\n",
       "      <td>2010</td>\n",
       "      <td>3</td>\n",
       "      <td>[hey, hey, hey, your, lipstick, stains, on, th...</td>\n",
       "    </tr>\n",
       "    <tr>\n",
       "      <th>5587</th>\n",
       "      <td>California Gurls</td>\n",
       "      <td>['katy perry', 'snoop dogg']</td>\n",
       "      <td>2010</td>\n",
       "      <td>4</td>\n",
       "      <td>[greetings, loved, ones, lets, take, a, journe...</td>\n",
       "    </tr>\n",
       "    <tr>\n",
       "      <th>5588</th>\n",
       "      <td>OMG (feat. will.i.am)</td>\n",
       "      <td>['usher', 'will i am']</td>\n",
       "      <td>2010</td>\n",
       "      <td>5</td>\n",
       "      <td>[oh, my, gosh, baby, let, me, l, i, did, it, a...</td>\n",
       "    </tr>\n",
       "  </tbody>\n",
       "</table>\n",
       "</div>"
      ],
      "text/plain": [
       "                       Song                  Artist Names  \\\n",
       "5584                TiK ToK                     ['kesha']   \n",
       "5585           Need You Now                    ['lady a']   \n",
       "5586       Hey, Soul Sister                     ['train']   \n",
       "5587       California Gurls  ['katy perry', 'snoop dogg']   \n",
       "5588  OMG (feat. will.i.am)        ['usher', 'will i am']   \n",
       "\n",
       "      Hot100 Ranking Year  Hot100 Rank  \\\n",
       "5584                 2010            1   \n",
       "5585                 2010            2   \n",
       "5586                 2010            3   \n",
       "5587                 2010            4   \n",
       "5588                 2010            5   \n",
       "\n",
       "                                                 Lyrics  \n",
       "5584  [wake, up, in, the, mornin, feelin, like, p, d...  \n",
       "5585  [picture, perfect, memories, scattered, all, a...  \n",
       "5586  [hey, hey, hey, your, lipstick, stains, on, th...  \n",
       "5587  [greetings, loved, ones, lets, take, a, journe...  \n",
       "5588  [oh, my, gosh, baby, let, me, l, i, did, it, a...  "
      ]
     },
     "execution_count": 50,
     "metadata": {},
     "output_type": "execute_result"
    }
   ],
   "source": [
    "tokenizer = RegexpTokenizer(r'\\w+')\n",
    "df['Lyrics'] = df['Lyrics'].apply(lambda x: tokenizer.tokenize(x.lower()) if np.all(pd.notnull(x)) else [])\n",
    "df.head()"
   ]
  },
  {
   "cell_type": "code",
   "execution_count": 51,
   "id": "0e70295e",
   "metadata": {},
   "outputs": [],
   "source": [
    "# Output dei testi senza ulteriori informazioni su un file .txt\n",
    "joined_lyrics = df['Lyrics'].apply(lambda x: ' '.join(map(str, x))).tolist()\n",
    "\n",
    "# File txt contenente solo le lyrics senza altri metadati\n",
    "file = open('lyrics.txt', 'w')\n",
    "for i in range(len(joined_lyrics)):\n",
    "    file.write(joined_lyrics[i]+\"\\n\\n\")\n",
    "\n",
    "file.close()\n",
    "lyrics = pd.DataFrame({'Lyrics': io.open('lyrics.txt', 'r', encoding='ascii', errors='ignore').read().split('\\n\\n')})"
   ]
  },
  {
   "cell_type": "code",
   "execution_count": 52,
   "id": "0e6377e2",
   "metadata": {},
   "outputs": [
    {
     "data": {
      "text/html": [
       "<div>\n",
       "<style scoped>\n",
       "    .dataframe tbody tr th:only-of-type {\n",
       "        vertical-align: middle;\n",
       "    }\n",
       "\n",
       "    .dataframe tbody tr th {\n",
       "        vertical-align: top;\n",
       "    }\n",
       "\n",
       "    .dataframe thead th {\n",
       "        text-align: right;\n",
       "    }\n",
       "</style>\n",
       "<table border=\"1\" class=\"dataframe\">\n",
       "  <thead>\n",
       "    <tr style=\"text-align: right;\">\n",
       "      <th></th>\n",
       "      <th>Lyrics</th>\n",
       "    </tr>\n",
       "  </thead>\n",
       "  <tbody>\n",
       "    <tr>\n",
       "      <th>0</th>\n",
       "      <td>wake up in the mornin feelin like p diddy hey ...</td>\n",
       "    </tr>\n",
       "    <tr>\n",
       "      <th>1</th>\n",
       "      <td>picture perfect memories scattered all around ...</td>\n",
       "    </tr>\n",
       "    <tr>\n",
       "      <th>2</th>\n",
       "      <td>hey hey hey your lipstick stains on the front ...</td>\n",
       "    </tr>\n",
       "    <tr>\n",
       "      <th>3</th>\n",
       "      <td>greetings loved ones lets take a journey i kno...</td>\n",
       "    </tr>\n",
       "    <tr>\n",
       "      <th>4</th>\n",
       "      <td>oh my gosh baby let me l i did it again so ima...</td>\n",
       "    </tr>\n",
       "  </tbody>\n",
       "</table>\n",
       "</div>"
      ],
      "text/plain": [
       "                                              Lyrics\n",
       "0  wake up in the mornin feelin like p diddy hey ...\n",
       "1  picture perfect memories scattered all around ...\n",
       "2  hey hey hey your lipstick stains on the front ...\n",
       "3  greetings loved ones lets take a journey i kno...\n",
       "4  oh my gosh baby let me l i did it again so ima..."
      ]
     },
     "execution_count": 52,
     "metadata": {},
     "output_type": "execute_result"
    }
   ],
   "source": [
    "lyrics.head()"
   ]
  },
  {
   "cell_type": "markdown",
   "id": "e9d2d0c7",
   "metadata": {},
   "source": [
    "## 1.2. Numero di parole\n",
    "\n",
    "Possiamo adesso facilmente contare il numero di parole per ogni canzone e alla fine sommarle per ottenere il numero complessivo di parole. Per prima cosa, aggiungiamo delle colonne che ci serviranno da contatori."
   ]
  },
  {
   "cell_type": "code",
   "execution_count": 53,
   "id": "797a814e",
   "metadata": {
    "tags": []
   },
   "outputs": [],
   "source": [
    "lyrics['Number of characters'] = lyrics.Lyrics.str.len()\n",
    "lyrics['Number of words'] = lyrics.Lyrics.str.split().str.len()\n",
    "lyrics['Number of unique words'] = lyrics.Lyrics.apply(lambda x: len(set(x.split())))"
   ]
  },
  {
   "cell_type": "code",
   "execution_count": 54,
   "id": "d71939cc",
   "metadata": {},
   "outputs": [
    {
     "data": {
      "text/html": [
       "<div>\n",
       "<style scoped>\n",
       "    .dataframe tbody tr th:only-of-type {\n",
       "        vertical-align: middle;\n",
       "    }\n",
       "\n",
       "    .dataframe tbody tr th {\n",
       "        vertical-align: top;\n",
       "    }\n",
       "\n",
       "    .dataframe thead th {\n",
       "        text-align: right;\n",
       "    }\n",
       "</style>\n",
       "<table border=\"1\" class=\"dataframe\">\n",
       "  <thead>\n",
       "    <tr style=\"text-align: right;\">\n",
       "      <th></th>\n",
       "      <th>Lyrics</th>\n",
       "      <th>Number of characters</th>\n",
       "      <th>Number of words</th>\n",
       "      <th>Number of unique words</th>\n",
       "    </tr>\n",
       "  </thead>\n",
       "  <tbody>\n",
       "    <tr>\n",
       "      <th>0</th>\n",
       "      <td>wake up in the mornin feelin like p diddy hey ...</td>\n",
       "      <td>2176</td>\n",
       "      <td>456</td>\n",
       "      <td>146</td>\n",
       "    </tr>\n",
       "    <tr>\n",
       "      <th>1</th>\n",
       "      <td>picture perfect memories scattered all around ...</td>\n",
       "      <td>979</td>\n",
       "      <td>217</td>\n",
       "      <td>78</td>\n",
       "    </tr>\n",
       "    <tr>\n",
       "      <th>2</th>\n",
       "      <td>hey hey hey your lipstick stains on the front ...</td>\n",
       "      <td>1371</td>\n",
       "      <td>288</td>\n",
       "      <td>112</td>\n",
       "    </tr>\n",
       "    <tr>\n",
       "      <th>3</th>\n",
       "      <td>greetings loved ones lets take a journey i kno...</td>\n",
       "      <td>2119</td>\n",
       "      <td>409</td>\n",
       "      <td>168</td>\n",
       "    </tr>\n",
       "    <tr>\n",
       "      <th>4</th>\n",
       "      <td>oh my gosh baby let me l i did it again so ima...</td>\n",
       "      <td>2125</td>\n",
       "      <td>526</td>\n",
       "      <td>112</td>\n",
       "    </tr>\n",
       "  </tbody>\n",
       "</table>\n",
       "</div>"
      ],
      "text/plain": [
       "                                              Lyrics  Number of characters  \\\n",
       "0  wake up in the mornin feelin like p diddy hey ...                  2176   \n",
       "1  picture perfect memories scattered all around ...                   979   \n",
       "2  hey hey hey your lipstick stains on the front ...                  1371   \n",
       "3  greetings loved ones lets take a journey i kno...                  2119   \n",
       "4  oh my gosh baby let me l i did it again so ima...                  2125   \n",
       "\n",
       "   Number of words  Number of unique words  \n",
       "0              456                     146  \n",
       "1              217                      78  \n",
       "2              288                     112  \n",
       "3              409                     168  \n",
       "4              526                     112  "
      ]
     },
     "execution_count": 54,
     "metadata": {},
     "output_type": "execute_result"
    }
   ],
   "source": [
    "lyrics.head()"
   ]
  },
  {
   "cell_type": "markdown",
   "id": "afbca5d6",
   "metadata": {},
   "source": [
    "### 1.2.1. Numero medio di parole\n",
    "\n",
    "Mostriamo la distribuzione delle lunghezze dei testi."
   ]
  },
  {
   "cell_type": "code",
   "execution_count": 55,
   "id": "0ca5a077",
   "metadata": {
    "tags": []
   },
   "outputs": [
    {
     "name": "stdout",
     "output_type": "stream",
     "text": [
      "Valore medio:  412\n"
     ]
    },
    {
     "data": {
      "image/png": "[encoded data removed]",
      "text/plain": [
       "<Figure size 800x550 with 1 Axes>"
      ]
     },
     "metadata": {},
     "output_type": "display_data"
    }
   ],
   "source": [
    "plt.hist(lyrics['Number of words'], bins=50, color=\"orange\", edgecolor='black', alpha=0.5)\n",
    "plt.title('Distribuzione lunghezze lyrics')\n",
    "plt.xlabel('Numero di parole')\n",
    "plt.ylabel('Numero di canzoni')\n",
    "\n",
    "print(\"Valore medio: \", int(lyrics['Number of words'].mean()))"
   ]
  },
  {
   "cell_type": "markdown",
   "id": "04b0732b",
   "metadata": {},
   "source": [
    "Possiamo notare che ci sono molte canzoni con 0 parole. Queste canzoni spesso sono instrumental, altre volte sono errori nel dataset. In generale, sono in numero minore rispetto alle canzoni che dispongono di testo e non influenzano i risultati a cui vogliamo arrivare."
   ]
  },
  {
   "cell_type": "code",
   "execution_count": 56,
   "id": "a0444178",
   "metadata": {},
   "outputs": [
    {
     "name": "stdout",
     "output_type": "stream",
     "text": [
      "Numero di canzoni senza testo:  65\n"
     ]
    }
   ],
   "source": [
    "print(\"Numero di canzoni senza testo: \", (lyrics['Number of words'] == 0).sum())"
   ]
  },
  {
   "cell_type": "markdown",
   "id": "fe29e0cf",
   "metadata": {},
   "source": [
    "## 1.3. Analisi delle parole\n",
    "\n",
    "Passiamo ad analizzare nel concreto le parole presenti nel dataset."
   ]
  },
  {
   "cell_type": "code",
   "execution_count": 57,
   "id": "8c06c594",
   "metadata": {
    "tags": []
   },
   "outputs": [
    {
     "name": "stdout",
     "output_type": "stream",
     "text": [
      "Numero di parole valide nel dataset:  411121\n"
     ]
    }
   ],
   "source": [
    "all_words = [word for word in df['Lyrics'].explode().tolist() if not isinstance(word, float) or not np.isnan(word)]\n",
    "print(\"Numero di parole valide nel dataset: \", len(all_words))"
   ]
  },
  {
   "cell_type": "markdown",
   "id": "acd2ff46",
   "metadata": {},
   "source": [
    "Se vogliamo analizzare più a fondo i testi delle canzoni anche dal punto di vista della semantica, dobbiamo eseguire ulteriore pulizia dei dati."
   ]
  },
  {
   "cell_type": "markdown",
   "id": "49711e87",
   "metadata": {},
   "source": [
    "### 1.3.1. Parole più frequenti senza preprocessing\n",
    "\n",
    "Se analizzassimo i testi delle canzoni così come sono, le parole più frequenti che troveremmo sarebbero **stopword**. Le stopword sono parole comuni nei testi che non hanno significato semantico. Sono articoli, preposizioni, congiunzioni. Sono presenti in qualsiasi tipo di testo e non ci sono utili per le nostre analisi.\n",
    "\n",
    "Mostriamo di seguito che le 15 parole più frequenti nei testi non pre-processati sono infatti stopword: "
   ]
  },
  {
   "cell_type": "code",
   "execution_count": 58,
   "id": "e12a1ed4",
   "metadata": {
    "tags": []
   },
   "outputs": [
    {
     "name": "stdout",
     "output_type": "stream",
     "text": [
      "Parole più comuni: [('i', 16124), ('you', 15726), ('the', 12379), ('me', 8104), ('it', 7447), ('a', 7218), ('and', 7002), ('to', 6903), ('my', 6545), ('im', 5401), ('in', 4881), ('on', 4466), ('that', 4357), ('like', 4013), ('up', 3922)]\n"
     ]
    }
   ],
   "source": [
    "word_count = Counter(all_words)\n",
    "most_common_words = word_count.most_common(15)\n",
    "print(\"Parole più comuni:\", most_common_words)"
   ]
  },
  {
   "cell_type": "code",
   "execution_count": 59,
   "id": "4cf134ef",
   "metadata": {
    "scrolled": false
   },
   "outputs": [
    {
     "data": {
      "text/plain": [
       "<Axes: >"
      ]
     },
     "execution_count": 59,
     "metadata": {},
     "output_type": "execute_result"
    },
    {
     "data": {
      "image/png": "[encoded data removed]",
      "text/plain": [
       "<Figure size 800x550 with 1 Axes>"
      ]
     },
     "metadata": {},
     "output_type": "display_data"
    }
   ],
   "source": [
    "pd.Series(' '.join(lyrics.Lyrics).lower().split()).value_counts()[:20][::-1].plot(kind='barh')"
   ]
  },
  {
   "cell_type": "markdown",
   "id": "63bbe2e4",
   "metadata": {},
   "source": [
    "Vediamo anche le parole lunghe (più di 8 caratteri) più presenti. "
   ]
  },
  {
   "cell_type": "code",
   "execution_count": 60,
   "id": "0a7b8967",
   "metadata": {},
   "outputs": [
    {
     "data": {
      "text/plain": [
       "<Axes: >"
      ]
     },
     "execution_count": 60,
     "metadata": {},
     "output_type": "execute_result"
    },
    {
     "data": {
      "image/png": "[encoded data removed]",
      "text/plain": [
       "<Figure size 800x550 with 1 Axes>"
      ]
     },
     "metadata": {},
     "output_type": "display_data"
    }
   ],
   "source": [
    "# top long words\n",
    "pd.Series([w for w in ' '.join(lyrics.Lyrics).lower().split() if len(w) > 7]).value_counts()[:20][::-1].plot(kind='barh')"
   ]
  },
  {
   "cell_type": "markdown",
   "id": "af45c0d1",
   "metadata": {},
   "source": [
    "### 1.3.2. Gli n-gram più frequenti\n",
    "\n",
    "Mostriamo i gruppi di parole (n-gram) che compaiono più frequentemente insieme."
   ]
  },
  {
   "cell_type": "code",
   "execution_count": 61,
   "id": "6e1cb40a",
   "metadata": {},
   "outputs": [],
   "source": [
    "def get_ngrams_from_series(series, n=2):\n",
    "    lines = ' '.join(series).lower().split('\\n')\n",
    "    lgrams = [ngrams(l.split(), n) for l in lines]\n",
    "    grams = [[' '.join(g) for g in list(lg)] for lg in lgrams]\n",
    "    return [item for sublist in grams for item in sublist]"
   ]
  },
  {
   "cell_type": "code",
   "execution_count": 62,
   "id": "561718d8",
   "metadata": {},
   "outputs": [
    {
     "data": {
      "text/plain": [
       "<Axes: >"
      ]
     },
     "execution_count": 62,
     "metadata": {},
     "output_type": "execute_result"
    },
    {
     "data": {
      "image/png": "[encoded data removed]",
      "text/plain": [
       "<Figure size 800x550 with 1 Axes>"
      ]
     },
     "metadata": {},
     "output_type": "display_data"
    }
   ],
   "source": [
    "# Top bi-grams\n",
    "pd.Series(get_ngrams_from_series(lyrics.Lyrics, 2)).value_counts()[:20][::-1].plot(kind='barh')"
   ]
  },
  {
   "cell_type": "code",
   "execution_count": 63,
   "id": "5fc4afec",
   "metadata": {},
   "outputs": [
    {
     "data": {
      "text/plain": [
       "<Axes: >"
      ]
     },
     "execution_count": 63,
     "metadata": {},
     "output_type": "execute_result"
    },
    {
     "data": {
      "image/png": "[encoded data removed]",
      "text/plain": [
       "<Figure size 800x550 with 1 Axes>"
      ]
     },
     "metadata": {},
     "output_type": "display_data"
    }
   ],
   "source": [
    "# Top tri-grams\n",
    "pd.Series(get_ngrams_from_series(lyrics.Lyrics, 3)).value_counts()[:20][::-1].plot(kind='barh')"
   ]
  },
  {
   "cell_type": "markdown",
   "id": "0cbe9d59",
   "metadata": {},
   "source": [
    "### 1.3.3. Parole più frequenti con preprocessing\n",
    "\n",
    "Rimuoviamo le stopword e diamo un'occhiata alle parole più comuni che hanno anche un'importanza semantica."
   ]
  },
  {
   "cell_type": "code",
   "execution_count": 64,
   "id": "01782303",
   "metadata": {
    "tags": []
   },
   "outputs": [
    {
     "data": {
      "text/html": [
       "<div>\n",
       "<style scoped>\n",
       "    .dataframe tbody tr th:only-of-type {\n",
       "        vertical-align: middle;\n",
       "    }\n",
       "\n",
       "    .dataframe tbody tr th {\n",
       "        vertical-align: top;\n",
       "    }\n",
       "\n",
       "    .dataframe thead th {\n",
       "        text-align: right;\n",
       "    }\n",
       "</style>\n",
       "<table border=\"1\" class=\"dataframe\">\n",
       "  <thead>\n",
       "    <tr style=\"text-align: right;\">\n",
       "      <th></th>\n",
       "      <th>Song</th>\n",
       "      <th>Artist Names</th>\n",
       "      <th>Hot100 Ranking Year</th>\n",
       "      <th>Hot100 Rank</th>\n",
       "      <th>Lyrics</th>\n",
       "    </tr>\n",
       "  </thead>\n",
       "  <tbody>\n",
       "    <tr>\n",
       "      <th>5584</th>\n",
       "      <td>TiK ToK</td>\n",
       "      <td>['kesha']</td>\n",
       "      <td>2010</td>\n",
       "      <td>1</td>\n",
       "      <td>wake up in the mornin feelin like p diddy hey ...</td>\n",
       "    </tr>\n",
       "    <tr>\n",
       "      <th>5585</th>\n",
       "      <td>Need You Now</td>\n",
       "      <td>['lady a']</td>\n",
       "      <td>2010</td>\n",
       "      <td>2</td>\n",
       "      <td>picture perfect memories scattered all around ...</td>\n",
       "    </tr>\n",
       "    <tr>\n",
       "      <th>5586</th>\n",
       "      <td>Hey, Soul Sister</td>\n",
       "      <td>['train']</td>\n",
       "      <td>2010</td>\n",
       "      <td>3</td>\n",
       "      <td>hey hey hey your lipstick stains on the front ...</td>\n",
       "    </tr>\n",
       "    <tr>\n",
       "      <th>5587</th>\n",
       "      <td>California Gurls</td>\n",
       "      <td>['katy perry', 'snoop dogg']</td>\n",
       "      <td>2010</td>\n",
       "      <td>4</td>\n",
       "      <td>greetings loved ones lets take a journey i kno...</td>\n",
       "    </tr>\n",
       "    <tr>\n",
       "      <th>5588</th>\n",
       "      <td>OMG (feat. will.i.am)</td>\n",
       "      <td>['usher', 'will i am']</td>\n",
       "      <td>2010</td>\n",
       "      <td>5</td>\n",
       "      <td>oh my gosh baby let me l i did it again so ima...</td>\n",
       "    </tr>\n",
       "  </tbody>\n",
       "</table>\n",
       "</div>"
      ],
      "text/plain": [
       "                       Song                  Artist Names  \\\n",
       "5584                TiK ToK                     ['kesha']   \n",
       "5585           Need You Now                    ['lady a']   \n",
       "5586       Hey, Soul Sister                     ['train']   \n",
       "5587       California Gurls  ['katy perry', 'snoop dogg']   \n",
       "5588  OMG (feat. will.i.am)        ['usher', 'will i am']   \n",
       "\n",
       "      Hot100 Ranking Year  Hot100 Rank  \\\n",
       "5584                 2010            1   \n",
       "5585                 2010            2   \n",
       "5586                 2010            3   \n",
       "5587                 2010            4   \n",
       "5588                 2010            5   \n",
       "\n",
       "                                                 Lyrics  \n",
       "5584  wake up in the mornin feelin like p diddy hey ...  \n",
       "5585  picture perfect memories scattered all around ...  \n",
       "5586  hey hey hey your lipstick stains on the front ...  \n",
       "5587  greetings loved ones lets take a journey i kno...  \n",
       "5588  oh my gosh baby let me l i did it again so ima...  "
      ]
     },
     "execution_count": 64,
     "metadata": {},
     "output_type": "execute_result"
    }
   ],
   "source": [
    "# Per prima cosa, trasformiamo le Lyrics, che precedentemente abbiamo reso liste di parole, in stringhe continue. \n",
    "df['Lyrics'] = df['Lyrics'].apply(lambda x: ' '.join(map(str, x)))\n",
    "df.head()"
   ]
  },
  {
   "cell_type": "code",
   "execution_count": 65,
   "id": "5176f5b0",
   "metadata": {
    "tags": []
   },
   "outputs": [],
   "source": [
    "# Funzione che pulisce il testo preso in input. Rimuove caratteri speciali, numeri, stopword e trasforma\n",
    "# tutto in lowercase.\n",
    "def preprocess(text: str) -> str:\n",
    "    text = re.sub(\"[^A-Za-z]+\", \" \", text)  # rimuoviamo numeri e caratteri speciali\n",
    "    # rimuoviamo le stopword\n",
    "    # 1. creiamo i token\n",
    "    tokens = nltk.word_tokenize(text)\n",
    "    # 2. se il token è una stopword, viene rimosso.\n",
    "    tokens = [w.lower().strip() for w in tokens if not w.lower() in sw]\n",
    "    return tokens\n",
    "\n",
    "df[\"Lyrics\"] = df['Lyrics'].apply(lambda x: preprocess(x))"
   ]
  },
  {
   "cell_type": "markdown",
   "id": "4b31cacf",
   "metadata": {},
   "source": [
    "Adesso abbiamo a disposizione testi senza stopword, solo con parole che portano significato."
   ]
  },
  {
   "cell_type": "code",
   "execution_count": 66,
   "id": "d769dc49",
   "metadata": {},
   "outputs": [
    {
     "data": {
      "text/html": [
       "<div>\n",
       "<style scoped>\n",
       "    .dataframe tbody tr th:only-of-type {\n",
       "        vertical-align: middle;\n",
       "    }\n",
       "\n",
       "    .dataframe tbody tr th {\n",
       "        vertical-align: top;\n",
       "    }\n",
       "\n",
       "    .dataframe thead th {\n",
       "        text-align: right;\n",
       "    }\n",
       "</style>\n",
       "<table border=\"1\" class=\"dataframe\">\n",
       "  <thead>\n",
       "    <tr style=\"text-align: right;\">\n",
       "      <th></th>\n",
       "      <th>Song</th>\n",
       "      <th>Artist Names</th>\n",
       "      <th>Hot100 Ranking Year</th>\n",
       "      <th>Hot100 Rank</th>\n",
       "      <th>Lyrics</th>\n",
       "    </tr>\n",
       "  </thead>\n",
       "  <tbody>\n",
       "    <tr>\n",
       "      <th>5584</th>\n",
       "      <td>TiK ToK</td>\n",
       "      <td>['kesha']</td>\n",
       "      <td>2010</td>\n",
       "      <td>1</td>\n",
       "      <td>[wake, mornin, feelin, diddy, girl, grab, glas...</td>\n",
       "    </tr>\n",
       "    <tr>\n",
       "      <th>5585</th>\n",
       "      <td>Need You Now</td>\n",
       "      <td>['lady a']</td>\n",
       "      <td>2010</td>\n",
       "      <td>2</td>\n",
       "      <td>[picture, perfect, memories, scattered, floor,...</td>\n",
       "    </tr>\n",
       "    <tr>\n",
       "      <th>5586</th>\n",
       "      <td>Hey, Soul Sister</td>\n",
       "      <td>['train']</td>\n",
       "      <td>2010</td>\n",
       "      <td>3</td>\n",
       "      <td>[lipstick, stains, lobe, left, brains, knew, f...</td>\n",
       "    </tr>\n",
       "    <tr>\n",
       "      <th>5587</th>\n",
       "      <td>California Gurls</td>\n",
       "      <td>['katy perry', 'snoop dogg']</td>\n",
       "      <td>2010</td>\n",
       "      <td>4</td>\n",
       "      <td>[loved, journey, place, grass, greener, warm, ...</td>\n",
       "    </tr>\n",
       "    <tr>\n",
       "      <th>5588</th>\n",
       "      <td>OMG (feat. will.i.am)</td>\n",
       "      <td>['usher', 'will i am']</td>\n",
       "      <td>2010</td>\n",
       "      <td>5</td>\n",
       "      <td>[gosh, baby, beat, rock, baby, love, ways, lov...</td>\n",
       "    </tr>\n",
       "  </tbody>\n",
       "</table>\n",
       "</div>"
      ],
      "text/plain": [
       "                       Song                  Artist Names  \\\n",
       "5584                TiK ToK                     ['kesha']   \n",
       "5585           Need You Now                    ['lady a']   \n",
       "5586       Hey, Soul Sister                     ['train']   \n",
       "5587       California Gurls  ['katy perry', 'snoop dogg']   \n",
       "5588  OMG (feat. will.i.am)        ['usher', 'will i am']   \n",
       "\n",
       "      Hot100 Ranking Year  Hot100 Rank  \\\n",
       "5584                 2010            1   \n",
       "5585                 2010            2   \n",
       "5586                 2010            3   \n",
       "5587                 2010            4   \n",
       "5588                 2010            5   \n",
       "\n",
       "                                                 Lyrics  \n",
       "5584  [wake, mornin, feelin, diddy, girl, grab, glas...  \n",
       "5585  [picture, perfect, memories, scattered, floor,...  \n",
       "5586  [lipstick, stains, lobe, left, brains, knew, f...  \n",
       "5587  [loved, journey, place, grass, greener, warm, ...  \n",
       "5588  [gosh, baby, beat, rock, baby, love, ways, lov...  "
      ]
     },
     "execution_count": 66,
     "metadata": {},
     "output_type": "execute_result"
    }
   ],
   "source": [
    "df.head()"
   ]
  },
  {
   "cell_type": "markdown",
   "id": "a515fac8",
   "metadata": {},
   "source": [
    "A questo punto ha senso guardare e analizzare le parole più frequenti."
   ]
  },
  {
   "cell_type": "code",
   "execution_count": 67,
   "id": "37817074",
   "metadata": {
    "tags": []
   },
   "outputs": [
    {
     "name": "stdout",
     "output_type": "stream",
     "text": [
      "\n",
      "Parole più frequenti:\n",
      "love: 2646\n",
      "baby: 2281\n",
      "girl: 1250\n",
      "time: 1021\n",
      "feel: 935\n",
      "night: 860\n",
      "good: 733\n",
      "life: 730\n",
      "money: 641\n",
      "heart: 637\n"
     ]
    }
   ],
   "source": [
    "all_words = [word for text in df['Lyrics'] for word in text]\n",
    "word_freq = Counter(all_words)\n",
    "most_common_words = word_freq.most_common(10)\n",
    "print(\"\\nParole più frequenti:\")\n",
    "for word, freq in most_common_words:\n",
    "    print(f\"{word}: {freq}\")"
   ]
  },
  {
   "cell_type": "markdown",
   "id": "eecc567d",
   "metadata": {},
   "source": [
    "### 1.3.4. Parole più importanti\n",
    "\n",
    "Mostriamo i **termini più importanti** contenuti nel nostro dataset facendo uso dell'algoritmo **TF-IDF**.\n",
    "\n",
    "Il TF-IDF (term frequency-inverse document frequency) è un **algoritmo di estrazione di informazioni testuali da un documento** (o una collezione di documenti). La funzione permette di misurare **l'importanza** di ogni termine rispetto ad un documento o ad una collezione di documenti. \n",
    "\n",
    "L'algoritmo **funziona nel modo seguente**: consideriamo N documenti e un termine T. Se T è presente in tutti gli N documenti, T è un termine comune. Se il termine T non è frequentemente presente all'interno dei documenti, ma comunque non in pochi, allora vuol dire che il termine ha un'importanza maggiore.\n",
    "\n",
    "I termini più importanti sono termini che compaiono spesso nei documenti in cui sono presenti, ma che in generale sono poco frequenti.\n",
    "\n",
    "L'algoritmo assegna un valore ai termini coinvolgendo due metriche:\n",
    "- **Term frequency** (TF): frequenza del termine in un documento. Tale valore è determinato dal rapporto tra il numero di occorrenze del termine e il numero delle parole nel documento. In sostanza, questo valore cresce se un termine si trova tante volte in uno stesso documento. \n",
    "\n",
    "- **Inverse document frequency** (IDF): questo valore cresce se il termine compare in pochi documenti tra gli N documenti. In sostanza, un termine ha un IDF alto se compare in pochi documenti.\n",
    "\n",
    "Il valore TF-IDF associato a un termine è il prodotto di questi due valori.\n",
    "\n",
    "Riassumento, l'algoritmo TF-IDF associa **maggiore importanza ai termini che compaiono in pochi documenti ma nei documenti in cui compaiono sono molto frequenti** e possiamo utilizzarlo per trovare le parole più importanti nei nostri testi di canzoni."
   ]
  },
  {
   "cell_type": "code",
   "execution_count": 68,
   "id": "b0e77dd3",
   "metadata": {
    "tags": []
   },
   "outputs": [
    {
     "name": "stdout",
     "output_type": "stream",
     "text": [
      "\n",
      "Parole più importanti (TF-IDF più alto):\n",
      "low: 0.9956578177630779\n",
      "rumor: 0.9940216403121889\n",
      "work: 0.9900447861384912\n"
     ]
    }
   ],
   "source": [
    "joined_lyrics = df['Lyrics'].apply(lambda x: ' '.join(map(str, x)))\n",
    "\n",
    "tfidf_vectorizer = TfidfVectorizer()\n",
    "X_tfidf = tfidf_vectorizer.fit_transform(joined_lyrics)\n",
    "feature_names = tfidf_vectorizer.get_feature_names_out()\n",
    "\n",
    "# Recuperare le parole con i punteggi TF-IDF più alti\n",
    "max_tfidf_per_doc = X_tfidf.max(axis=0).toarray().flatten()\n",
    "sorted_items = sorted(zip(max_tfidf_per_doc, feature_names), reverse=True)\n",
    "most_important_words = sorted_items[:3]\n",
    "print(\"\\nParole più importanti (TF-IDF più alto):\")\n",
    "for score, word in most_important_words:\n",
    "    print(f\"{word}: {score}\")"
   ]
  },
  {
   "cell_type": "markdown",
   "id": "08cf29b3",
   "metadata": {},
   "source": [
    "### 1.3.5. Parole correlate a parole frequenti e importanti\n",
    "\n",
    "In questa sezione vediamo quali parole accompagnano più spesso le parole che abbiamo precedentemente individuato come più frequenti e importanti.\n",
    "\n",
    "Troviamo queste connessioni utilizzando **Word2vec**, una rete neurale capace di trasformare insiemi di parole in rappresentazioni vettoriali. Questi vettori contengono informazioni sul significato delle parole in base alle parole che le accompagnano. La dimensione del vettore rappresenta la complessità dell'embedding e la **quantità di informazioni semantiche catturate**. Dimensioni più elevate catturano relazioni più sfumate, ma richiedono anche più dati e calcoli.\n",
    "\n",
    "Word2vec prende in input un corpus di testi e restituisce un insieme di vettori che rappresentano la **distribuzione semantica** delle parole nel testo. Per ogni parola contenuta nel corpus, viene costruito un vettore in modo da rappresentarla come un punto nello spazio multidimensionale. \n",
    "\n",
    "La rete neurale è capace di **riconoscere le relazioni tra le parole**. In particolare, parole che sembrano apparire in contesti simili, sono mappate a vettori vicini. Una volta che il modello è stato trainato, gli embedding delle parole che condividono un contesto simile nel corpus (i.e. parole semanticamente simili) sono vicine nello spazio vettoriale. Di conseguenza, le parole dissimili sono localizzate lontane l'una dall'altra. \n",
    "\n",
    "Gli elementi fondamentali per Word2vec sono:\n",
    "- **Continuous Bag of Words (CBOW)**: modello per trainare i word embedding che predice una parola dato il contesto.\n",
    "- **Skip Gram**: in contrapposizione al precedente, modello che predice il contesto data una parola.\n",
    "\n",
    "Inoltre Word2vec è molto efficiente e veloce poiché fa uso del **negative sampling**, ossia nel training della rete neurale ignora gli elementi non utili alla predizione, i quali sono caratterizzati da pesi negativi."
   ]
  },
  {
   "cell_type": "code",
   "execution_count": 69,
   "id": "48f57612",
   "metadata": {
    "tags": []
   },
   "outputs": [],
   "source": [
    "# trainiamo il modello\n",
    "model = Word2Vec(sentences=df['Lyrics'].tolist())"
   ]
  },
  {
   "cell_type": "code",
   "execution_count": 70,
   "id": "ea235c7b",
   "metadata": {
    "tags": []
   },
   "outputs": [
    {
     "name": "stdout",
     "output_type": "stream",
     "text": [
      "Parole correlate alle parole più frequenti:\n",
      "\n",
      "Parole correlate con '('love', 2646)': \n",
      "('behave', 0.9780300855636597)\n",
      "('long', 0.9286976456642151)\n",
      "('hopeless', 0.9122680425643921)\n",
      "\n",
      "Parole correlate con '('baby', 2281)': \n",
      "('adorn', 0.9390478730201721)\n",
      "('whistle', 0.9029958844184875)\n",
      "('showing', 0.878018856048584)\n",
      "\n",
      "Parole correlate con '('girl', 1250)': \n",
      "('body', 0.9213047027587891)\n",
      "('discovering', 0.8560878038406372)\n",
      "('earned', 0.807239294052124)\n",
      "\n",
      "Parole correlate con '('time', 1021)': \n",
      "('mind', 0.9568067193031311)\n",
      "('granted', 0.9406144618988037)\n",
      "('matters', 0.9375675916671753)\n",
      "\n",
      "Parole correlate con '('feel', 935)': \n",
      "('coming', 0.9273994565010071)\n",
      "('matters', 0.9018546938896179)\n",
      "('babe', 0.8929051160812378)\n",
      "\n",
      "Parole correlate con '('night', 860)': \n",
      "('lucky', 0.9427092671394348)\n",
      "('stay', 0.8856745958328247)\n",
      "('llove', 0.8697975277900696)\n",
      "\n",
      "Parole correlate con '('good', 733)': \n",
      "('granted', 0.9259580373764038)\n",
      "('feeling', 0.9162207245826721)\n",
      "('time', 0.9161772131919861)\n",
      "\n",
      "Parole correlate con '('life', 730)': \n",
      "('feeling', 0.9210057854652405)\n",
      "('youngblood', 0.9152274131774902)\n",
      "('matters', 0.9150844216346741)\n",
      "\n",
      "Parole correlate con '('money', 641)': \n",
      "('biz', 0.8933870196342468)\n",
      "('mob', 0.8817222118377686)\n",
      "('signs', 0.8628443479537964)\n",
      "\n",
      "Parole correlate con '('heart', 637)': \n",
      "('break', 0.9682520031929016)\n",
      "('chains', 0.9440596103668213)\n",
      "('ache', 0.9435321092605591)\n"
     ]
    }
   ],
   "source": [
    "# Analisi delle parole correlate a quelle più frequenti\n",
    "print(\"Parole correlate alle parole più frequenti:\")\n",
    "for word in most_common_words:\n",
    "    similar_words = model.wv.most_similar(positive=[word], topn=3)\n",
    "    print(f\"\\nParole correlate con '{word}': \")\n",
    "    for similar_word in similar_words:\n",
    "        print(f\"{similar_word}\") "
   ]
  },
  {
   "cell_type": "code",
   "execution_count": 72,
   "id": "0431890c",
   "metadata": {
    "tags": []
   },
   "outputs": [
    {
     "name": "stdout",
     "output_type": "stream",
     "text": [
      "Parole correlate alle parole più importanti:\n",
      "\n",
      "Parole correlate con '(0.9956578177630779, 'low')': \n",
      "('repping', 0.9814177751541138)\n",
      "('representing', 0.9810830354690552)\n",
      "('starts', 0.9662962555885315)\n",
      "\n",
      "Parole correlate con '(0.9940216403121889, 'rumor')': \n",
      "('core', 0.8100433945655823)\n",
      "('dyou', 0.8097468018531799)\n",
      "('week', 0.7851085662841797)\n",
      "\n",
      "Parole correlate con '(0.9900447861384912, 'work')': \n",
      "('miracle', 0.9391815066337585)\n",
      "('mountains', 0.9174107313156128)\n",
      "('earned', 0.9166923761367798)\n"
     ]
    }
   ],
   "source": [
    "# Analisi delle parole correlate a quelle più importanti\n",
    "print(\"Parole correlate alle parole più importanti:\")\n",
    "for word in most_important_words:\n",
    "    similar_words = model.wv.most_similar(positive=[word[1]], topn=3)\n",
    "    print(f\"\\nParole correlate con '{word}': \")\n",
    "    for similar_word in similar_words:\n",
    "        print(f\"{similar_word}\")"
   ]
  },
  {
   "cell_type": "markdown",
   "id": "f8c388ed",
   "metadata": {},
   "source": [
    "## 1.4. Analisi delle canzoni\n",
    "\n",
    "Passiamo dall'analizzare i termini singolarmente, ad analizzare i testi nella loro complessità."
   ]
  },
  {
   "cell_type": "markdown",
   "id": "99fd3199",
   "metadata": {},
   "source": [
    "### 1.4.1. Temi più frequenti\n",
    "\n",
    "In questa sezione analizziamo i temi più frequenti tra i testi. Questo tipo di analisi è più specifica rispetto alla sola analisi dei termini, poiché coinvolge molte più variabili.\n",
    "\n",
    "In NLP, **l'allocazione Dirichlet latente (LDA)** è un modello probabilistico capace di **estrarre i temi a partire da documenti testuali**. Un documento è considerato come un **insieme di argomenti**, e ogni argomento è caratterizzato da una specifica distribuzione di parole.\n",
    "\n",
    "Il modello analizza un testo e ogni parola in esso viene associata a un tema specifico. Se le parole di un determinato tema ricorrono maggiormente all'interno di un documento, è molto probabile che questo documento appartenga a tale tema.\n",
    "\n",
    "Poiché LDA è un modello che effettua **clustering non-supervisionato**, non sono fornite etichette per i cluster, ma il significato di ogni cluster deve essere interpretato a partire dai suoi rappresentanti."
   ]
  },
  {
   "cell_type": "code",
   "execution_count": 73,
   "id": "64a17f5b",
   "metadata": {
    "tags": []
   },
   "outputs": [],
   "source": [
    "joined_lyrics = df['Lyrics'].apply(lambda x: ' '.join(map(str, x)))\n",
    "\n",
    "# countvectorizer trasforma una collezione di documenti in una matrice\n",
    "count_vectorizer = CountVectorizer(max_df=0.95, min_df=2, stop_words='english')\n",
    "X_counts = count_vectorizer.fit_transform(joined_lyrics)\n",
    "\n",
    "# applichiamo LDA\n",
    "num_topics = 5\n",
    "lda = LatentDirichletAllocation(n_components=num_topics, random_state=42)\n",
    "lda.fit(X_counts)\n",
    "\n",
    "words = count_vectorizer.get_feature_names_out()"
   ]
  },
  {
   "cell_type": "code",
   "execution_count": 74,
   "id": "9c4fa54d",
   "metadata": {
    "tags": []
   },
   "outputs": [
    {
     "name": "stdout",
     "output_type": "stream",
     "text": [
      "Topic 0:\n",
      "love baby night girl time\n",
      "Topic 1:\n",
      "girl good turn time work\n",
      "Topic 2:\n",
      "money watch man bad bitches\n",
      "Topic 3:\n",
      "love low life girl feel\n",
      "Topic 4:\n",
      "baby love long time feel\n"
     ]
    },
    {
     "data": {
      "image/png": "[encoded data removed]",
      "text/plain": [
       "<Figure size 1000x600 with 1 Axes>"
      ]
     },
     "metadata": {},
     "output_type": "display_data"
    }
   ],
   "source": [
    "def display_topics(model, feature_names, num_top_words):\n",
    "    for topic_idx, topic in enumerate(model.components_):\n",
    "        print(f\"Topic {topic_idx}:\")\n",
    "        print(\" \".join([feature_names[i] for i in topic.argsort()[:-num_top_words - 1:-1]]))\n",
    "\n",
    "num_top_words = 5\n",
    "display_topics(lda, words, num_top_words)\n",
    "\n",
    "# aggiungiamo i risultati del topic modeling al df originale\n",
    "topics = lda.transform(X_counts)\n",
    "df['Topic'] = topics.argmax(axis=1)\n",
    "\n",
    "plt.figure(figsize=(10, 6))\n",
    "sns.countplot(x='Topic', data=df)\n",
    "plt.xlabel('Topic')\n",
    "plt.ylabel('Numero di canzoni')\n",
    "plt.title('Distribuzione dei temi tra le canzoni')\n",
    "plt.show()"
   ]
  },
  {
   "cell_type": "markdown",
   "id": "106b13ec",
   "metadata": {},
   "source": [
    "# 2. Generazione dei testi"
   ]
  },
  {
   "cell_type": "markdown",
   "id": "5335e9e8",
   "metadata": {},
   "source": [
    "La generazione del testo 'perfetto' sarà affidata all'AI più utilizzata: **ChatGPT nella versione GPT-4o**.\n",
    "Per capire come funziona la generazione di testo abbiamo prodotto due esempi dimostrativi in cui svilupperemo:\n",
    "- Una **rete neurale** addestrata sui testi del dataset che proverà a **prevedere**, dato un contesto, la parola più probabile.\n",
    "- Una funzione in grado di generare testo utilizzando le **catene di Markov**."
   ]
  },
  {
   "cell_type": "markdown",
   "id": "b946e1f5",
   "metadata": {},
   "source": [
    "## 2.1. Predizione della prossima parola"
   ]
  },
  {
   "cell_type": "markdown",
   "id": "7880ef7f",
   "metadata": {},
   "source": [
    "In questa sezione addestreremo un modello che proverà a predire le possibili parole successive ad una stringa data in input.\n",
    "\n",
    "Per la realizzazione di questa rete, avremo bisogno di conoscere i concetti di:\n",
    " - **RNN** e **LSTM**\n",
    " - **One Hot Encoding**"
   ]
  },
  {
   "cell_type": "markdown",
   "id": "bd4c8607",
   "metadata": {},
   "source": [
    "### 2.1.1. RNN e LSTM\n",
    "Una <b>Recurrent Neural Network (RNN)</b> è un un insieme di reti neurali che si passano in catena un messaggio: l'obiettivo è quello di cercare di <b>ricordare informazioni</b>, simulando il comportamento del cervello umano.<br>\n",
    "Negli ultimi anni le RNN sono state utilizzate per risolvere diverse task, tra cui il riconoscimento vocale e il captioning delle immagini.<br>\n",
    "Un limite importante delle RNN è quello di non riuscire a 'ricordare' un grande numero di informazioni per lungo tempo: <b>all'aumentare dello spazio tra le dipendenze diminuisce l'efficacia delle RNN nel 'ricordarle'</b>.<br>\n",
    "Per ovviare a questo problema si utilizzano le <b>Long Short Term Memory(LSTM)</b>. <br>\n",
    "Ogni modulo LSTM contiene <b>4 strati che interagiscono tra loro</b>. Ogni strato ha il compito di <b>modificare lo stato del modulo</b>, in modo da decidere quanta informazione far passare in base alla sua importanza nel contesto. <br>"
   ]
  },
  {
   "cell_type": "markdown",
   "id": "4a8e6e94",
   "metadata": {},
   "source": [
    "### 2.1.2. One Hot Encoding\n",
    "La tecnica di **One Hot Encoding** prevede di suddividere i dati in **array di una lunghezza predefinita**: nel nostro caso, un array sarà lungo come la lunghezza del testo della canzone ed ogni array identificherà una parola. Assegneremo il valore 1 ad un solo bit e questo rappresenterà la posizione della parola all'interno della frase (e.g. in una frase composta da 5 parole, la terza parola della frase sarà rappresentata dall'array \"[0,0,1,0,0]\"). Per rendere univoco il riferimento alla parola, questa avrà assegnato un indice. Introduciamo anche un **vocabolario che identifica** le parole possibili all'interno della frase.<br>\n",
    "<br>\n",
    "**Esempio**: <br>\n",
    "Vocabolario: [I, you, love]<br>\n",
    "I = 1, you = 2, love = 3 <br>\n",
    "\"I love you \"= [1,3,2]<br>\n",
    "love = [0,1,0] = 1 all'interno della frase<br>\n",
    "<br>\n",
    "Grazie a questa tecnica otteniamo una **matrice che identifica la frase**: in questo modo sarà più semplice calcolare prodotti puntuali, importanti per il calcolo della probabilità del termine successivo."
   ]
  },
  {
   "cell_type": "markdown",
   "id": "4efd9c46",
   "metadata": {},
   "source": [
    "### 2.1.3. Preparazione dei dati"
   ]
  },
  {
   "cell_type": "code",
   "execution_count": 28,
   "id": "bfcef8b1",
   "metadata": {},
   "outputs": [
    {
     "data": {
      "text/html": [
       "<div>\n",
       "<style scoped>\n",
       "    .dataframe tbody tr th:only-of-type {\n",
       "        vertical-align: middle;\n",
       "    }\n",
       "\n",
       "    .dataframe tbody tr th {\n",
       "        vertical-align: top;\n",
       "    }\n",
       "\n",
       "    .dataframe thead th {\n",
       "        text-align: right;\n",
       "    }\n",
       "</style>\n",
       "<table border=\"1\" class=\"dataframe\">\n",
       "  <thead>\n",
       "    <tr style=\"text-align: right;\">\n",
       "      <th></th>\n",
       "      <th>Song</th>\n",
       "      <th>Artist Names</th>\n",
       "      <th>Hot100 Ranking Year</th>\n",
       "      <th>Hot100 Rank</th>\n",
       "      <th>Lyrics</th>\n",
       "    </tr>\n",
       "  </thead>\n",
       "  <tbody>\n",
       "    <tr>\n",
       "      <th>5584</th>\n",
       "      <td>TiK ToK</td>\n",
       "      <td>['kesha']</td>\n",
       "      <td>2010</td>\n",
       "      <td>1</td>\n",
       "      <td>['wake', 'up', 'in', 'the', 'mornin', 'feelin'...</td>\n",
       "    </tr>\n",
       "    <tr>\n",
       "      <th>5585</th>\n",
       "      <td>Need You Now</td>\n",
       "      <td>['lady a']</td>\n",
       "      <td>2010</td>\n",
       "      <td>2</td>\n",
       "      <td>['picture', 'perfect', 'memories', 'scattered'...</td>\n",
       "    </tr>\n",
       "    <tr>\n",
       "      <th>5586</th>\n",
       "      <td>Hey, Soul Sister</td>\n",
       "      <td>['train']</td>\n",
       "      <td>2010</td>\n",
       "      <td>3</td>\n",
       "      <td>['hey', 'hey', 'hey', 'your', 'lipstick', 'sta...</td>\n",
       "    </tr>\n",
       "    <tr>\n",
       "      <th>5587</th>\n",
       "      <td>California Gurls</td>\n",
       "      <td>['katy perry', 'snoop dogg']</td>\n",
       "      <td>2010</td>\n",
       "      <td>4</td>\n",
       "      <td>['greetings', 'loved', 'ones', 'lets', 'take',...</td>\n",
       "    </tr>\n",
       "    <tr>\n",
       "      <th>5588</th>\n",
       "      <td>OMG (feat. will.i.am)</td>\n",
       "      <td>['usher', 'will i am']</td>\n",
       "      <td>2010</td>\n",
       "      <td>5</td>\n",
       "      <td>['oh', 'my', 'gosh', 'baby', 'let', 'me', 'l',...</td>\n",
       "    </tr>\n",
       "  </tbody>\n",
       "</table>\n",
       "</div>"
      ],
      "text/plain": [
       "                       Song                  Artist Names  \\\n",
       "5584                TiK ToK                     ['kesha']   \n",
       "5585           Need You Now                    ['lady a']   \n",
       "5586       Hey, Soul Sister                     ['train']   \n",
       "5587       California Gurls  ['katy perry', 'snoop dogg']   \n",
       "5588  OMG (feat. will.i.am)        ['usher', 'will i am']   \n",
       "\n",
       "      Hot100 Ranking Year  Hot100 Rank  \\\n",
       "5584                 2010            1   \n",
       "5585                 2010            2   \n",
       "5586                 2010            3   \n",
       "5587                 2010            4   \n",
       "5588                 2010            5   \n",
       "\n",
       "                                                 Lyrics  \n",
       "5584  ['wake', 'up', 'in', 'the', 'mornin', 'feelin'...  \n",
       "5585  ['picture', 'perfect', 'memories', 'scattered'...  \n",
       "5586  ['hey', 'hey', 'hey', 'your', 'lipstick', 'sta...  \n",
       "5587  ['greetings', 'loved', 'ones', 'lets', 'take',...  \n",
       "5588  ['oh', 'my', 'gosh', 'baby', 'let', 'me', 'l',...  "
      ]
     },
     "execution_count": 28,
     "metadata": {},
     "output_type": "execute_result"
    }
   ],
   "source": [
    "exdf = pd.read_csv(filename)\n",
    "exdf = exdf.loc[(exdf['Hot100 Ranking Year'] >= 2010) & (exdf['Hot100 Ranking Year'] <= 2010)] #riduco il dataset\n",
    "exdf.head()"
   ]
  },
  {
   "cell_type": "code",
   "execution_count": 29,
   "id": "7c77f35d",
   "metadata": {},
   "outputs": [],
   "source": [
    "tokenizer = RegexpTokenizer(r'\\w+')\n",
    "exdf['Lyrics'] = exdf['Lyrics'].apply(lambda x: tokenizer.tokenize(x.lower()) if np.all(pd.notnull(x)) else []) #divido le parole in token"
   ]
  },
  {
   "cell_type": "code",
   "execution_count": 30,
   "id": "ba2bf5c5",
   "metadata": {},
   "outputs": [
    {
     "data": {
      "text/html": [
       "<div>\n",
       "<style scoped>\n",
       "    .dataframe tbody tr th:only-of-type {\n",
       "        vertical-align: middle;\n",
       "    }\n",
       "\n",
       "    .dataframe tbody tr th {\n",
       "        vertical-align: top;\n",
       "    }\n",
       "\n",
       "    .dataframe thead th {\n",
       "        text-align: right;\n",
       "    }\n",
       "</style>\n",
       "<table border=\"1\" class=\"dataframe\">\n",
       "  <thead>\n",
       "    <tr style=\"text-align: right;\">\n",
       "      <th></th>\n",
       "      <th>Song</th>\n",
       "      <th>Artist Names</th>\n",
       "      <th>Hot100 Ranking Year</th>\n",
       "      <th>Hot100 Rank</th>\n",
       "      <th>Lyrics</th>\n",
       "    </tr>\n",
       "  </thead>\n",
       "  <tbody>\n",
       "    <tr>\n",
       "      <th>5584</th>\n",
       "      <td>TiK ToK</td>\n",
       "      <td>['kesha']</td>\n",
       "      <td>2010</td>\n",
       "      <td>1</td>\n",
       "      <td>wake up in the mornin feelin like p diddy hey ...</td>\n",
       "    </tr>\n",
       "    <tr>\n",
       "      <th>5585</th>\n",
       "      <td>Need You Now</td>\n",
       "      <td>['lady a']</td>\n",
       "      <td>2010</td>\n",
       "      <td>2</td>\n",
       "      <td>picture perfect memories scattered all around ...</td>\n",
       "    </tr>\n",
       "    <tr>\n",
       "      <th>5586</th>\n",
       "      <td>Hey, Soul Sister</td>\n",
       "      <td>['train']</td>\n",
       "      <td>2010</td>\n",
       "      <td>3</td>\n",
       "      <td>hey hey hey your lipstick stains on the front ...</td>\n",
       "    </tr>\n",
       "    <tr>\n",
       "      <th>5587</th>\n",
       "      <td>California Gurls</td>\n",
       "      <td>['katy perry', 'snoop dogg']</td>\n",
       "      <td>2010</td>\n",
       "      <td>4</td>\n",
       "      <td>greetings loved ones lets take a journey i kno...</td>\n",
       "    </tr>\n",
       "    <tr>\n",
       "      <th>5588</th>\n",
       "      <td>OMG (feat. will.i.am)</td>\n",
       "      <td>['usher', 'will i am']</td>\n",
       "      <td>2010</td>\n",
       "      <td>5</td>\n",
       "      <td>oh my gosh baby let me l i did it again so ima...</td>\n",
       "    </tr>\n",
       "  </tbody>\n",
       "</table>\n",
       "</div>"
      ],
      "text/plain": [
       "                       Song                  Artist Names  \\\n",
       "5584                TiK ToK                     ['kesha']   \n",
       "5585           Need You Now                    ['lady a']   \n",
       "5586       Hey, Soul Sister                     ['train']   \n",
       "5587       California Gurls  ['katy perry', 'snoop dogg']   \n",
       "5588  OMG (feat. will.i.am)        ['usher', 'will i am']   \n",
       "\n",
       "      Hot100 Ranking Year  Hot100 Rank  \\\n",
       "5584                 2010            1   \n",
       "5585                 2010            2   \n",
       "5586                 2010            3   \n",
       "5587                 2010            4   \n",
       "5588                 2010            5   \n",
       "\n",
       "                                                 Lyrics  \n",
       "5584  wake up in the mornin feelin like p diddy hey ...  \n",
       "5585  picture perfect memories scattered all around ...  \n",
       "5586  hey hey hey your lipstick stains on the front ...  \n",
       "5587  greetings loved ones lets take a journey i kno...  \n",
       "5588  oh my gosh baby let me l i did it again so ima...  "
      ]
     },
     "execution_count": 30,
     "metadata": {},
     "output_type": "execute_result"
    }
   ],
   "source": [
    "exdf['Lyrics'] = exdf['Lyrics'].apply(lambda x: ' '.join(map(str, x)))\n",
    "exdf.head()"
   ]
  },
  {
   "cell_type": "code",
   "execution_count": 31,
   "id": "0eeda306",
   "metadata": {},
   "outputs": [],
   "source": [
    "text = list(exdf['Lyrics'])\n",
    "joined_text = \" \".join(text)"
   ]
  },
  {
   "cell_type": "code",
   "execution_count": 32,
   "id": "b1b91911",
   "metadata": {},
   "outputs": [],
   "source": [
    "tokenizer = RegexpTokenizer(r\"\\w+\")\n",
    "tokens = tokenizer.tokenize(joined_text)"
   ]
  },
  {
   "cell_type": "code",
   "execution_count": 33,
   "id": "7eaf01b0",
   "metadata": {},
   "outputs": [],
   "source": [
    "unique_tokens=np.unique(tokens)\n",
    "unique_tokens_index = {token: idx for idx, token in enumerate(unique_tokens)}"
   ]
  },
  {
   "cell_type": "code",
   "execution_count": 34,
   "id": "2faaab4d",
   "metadata": {},
   "outputs": [],
   "source": [
    "n_words = 5 \n",
    "input_words =[]\n",
    "next_words =[]\n",
    "\n",
    "for i in range(len(tokens) - n_words):\n",
    "    input_words.append(tokens[i:i + n_words])\n",
    "    next_words.append(tokens[i + n_words])\n",
    "\n",
    "X=np.zeros((len(input_words), n_words, len(unique_tokens)), dtype=bool)\n",
    "Y=np.zeros((len(next_words), len(unique_tokens)), dtype= bool)"
   ]
  },
  {
   "cell_type": "code",
   "execution_count": 35,
   "id": "b6ddbfb7",
   "metadata": {},
   "outputs": [],
   "source": [
    "#one hot encoding\n",
    "for i, words in enumerate(input_words):\n",
    "    for j, word in enumerate(words):\n",
    "        X[i, j, unique_tokens_index[word]]=1\n",
    "    Y[i, unique_tokens_index[next_words[i]]] = 1"
   ]
  },
  {
   "cell_type": "markdown",
   "id": "8893791a",
   "metadata": {},
   "source": [
    "### 2.1.4. Creazione del modello"
   ]
  },
  {
   "cell_type": "code",
   "execution_count": 36,
   "id": "1a5b0f9b",
   "metadata": {},
   "outputs": [
    {
     "name": "stderr",
     "output_type": "stream",
     "text": [
      "C:\\Users\\erika\\anaconda3\\Lib\\site-packages\\keras\\src\\layers\\rnn\\rnn.py:204: UserWarning: Do not pass an `input_shape`/`input_dim` argument to a layer. When using Sequential models, prefer using an `Input(shape)` object as the first layer in the model instead.\n",
      "  super().__init__(**kwargs)\n"
     ]
    },
    {
     "data": {
      "text/html": [
       "<pre style=\"white-space:pre;overflow-x:auto;line-height:normal;font-family:Menlo,'DejaVu Sans Mono',consolas,'Courier New',monospace\"><span style=\"font-weight: bold\">Model: \"sequential\"</span>\n",
       "</pre>\n"
      ],
      "text/plain": [
       "\u001b[1mModel: \"sequential\"\u001b[0m\n"
      ]
     },
     "metadata": {},
     "output_type": "display_data"
    },
    {
     "data": {
      "text/html": [
       "<pre style=\"white-space:pre;overflow-x:auto;line-height:normal;font-family:Menlo,'DejaVu Sans Mono',consolas,'Courier New',monospace\">┏━━━━━━━━━━━━━━━━━━━━━━━━━━━━━━━━━┳━━━━━━━━━━━━━━━━━━━━━━━━┳━━━━━━━━━━━━━━━┓\n",
       "┃<span style=\"font-weight: bold\"> Layer (type)                    </span>┃<span style=\"font-weight: bold\"> Output Shape           </span>┃<span style=\"font-weight: bold\">       Param # </span>┃\n",
       "┡━━━━━━━━━━━━━━━━━━━━━━━━━━━━━━━━━╇━━━━━━━━━━━━━━━━━━━━━━━━╇━━━━━━━━━━━━━━━┩\n",
       "│ lstm (<span style=\"color: #0087ff; text-decoration-color: #0087ff\">LSTM</span>)                     │ (<span style=\"color: #00d7ff; text-decoration-color: #00d7ff\">None</span>, <span style=\"color: #00af00; text-decoration-color: #00af00\">5</span>, <span style=\"color: #00af00; text-decoration-color: #00af00\">128</span>)         │     <span style=\"color: #00af00; text-decoration-color: #00af00\">1,735,680</span> │\n",
       "├─────────────────────────────────┼────────────────────────┼───────────────┤\n",
       "│ lstm_1 (<span style=\"color: #0087ff; text-decoration-color: #0087ff\">LSTM</span>)                   │ (<span style=\"color: #00d7ff; text-decoration-color: #00d7ff\">None</span>, <span style=\"color: #00af00; text-decoration-color: #00af00\">128</span>)            │       <span style=\"color: #00af00; text-decoration-color: #00af00\">131,584</span> │\n",
       "├─────────────────────────────────┼────────────────────────┼───────────────┤\n",
       "│ dense (<span style=\"color: #0087ff; text-decoration-color: #0087ff\">Dense</span>)                   │ (<span style=\"color: #00d7ff; text-decoration-color: #00d7ff\">None</span>, <span style=\"color: #00af00; text-decoration-color: #00af00\">3261</span>)           │       <span style=\"color: #00af00; text-decoration-color: #00af00\">420,669</span> │\n",
       "└─────────────────────────────────┴────────────────────────┴───────────────┘\n",
       "</pre>\n"
      ],
      "text/plain": [
       "┏━━━━━━━━━━━━━━━━━━━━━━━━━━━━━━━━━┳━━━━━━━━━━━━━━━━━━━━━━━━┳━━━━━━━━━━━━━━━┓\n",
       "┃\u001b[1m \u001b[0m\u001b[1mLayer (type)                   \u001b[0m\u001b[1m \u001b[0m┃\u001b[1m \u001b[0m\u001b[1mOutput Shape          \u001b[0m\u001b[1m \u001b[0m┃\u001b[1m \u001b[0m\u001b[1m      Param #\u001b[0m\u001b[1m \u001b[0m┃\n",
       "┡━━━━━━━━━━━━━━━━━━━━━━━━━━━━━━━━━╇━━━━━━━━━━━━━━━━━━━━━━━━╇━━━━━━━━━━━━━━━┩\n",
       "│ lstm (\u001b[38;5;33mLSTM\u001b[0m)                     │ (\u001b[38;5;45mNone\u001b[0m, \u001b[38;5;34m5\u001b[0m, \u001b[38;5;34m128\u001b[0m)         │     \u001b[38;5;34m1,735,680\u001b[0m │\n",
       "├─────────────────────────────────┼────────────────────────┼───────────────┤\n",
       "│ lstm_1 (\u001b[38;5;33mLSTM\u001b[0m)                   │ (\u001b[38;5;45mNone\u001b[0m, \u001b[38;5;34m128\u001b[0m)            │       \u001b[38;5;34m131,584\u001b[0m │\n",
       "├─────────────────────────────────┼────────────────────────┼───────────────┤\n",
       "│ dense (\u001b[38;5;33mDense\u001b[0m)                   │ (\u001b[38;5;45mNone\u001b[0m, \u001b[38;5;34m3261\u001b[0m)           │       \u001b[38;5;34m420,669\u001b[0m │\n",
       "└─────────────────────────────────┴────────────────────────┴───────────────┘\n"
      ]
     },
     "metadata": {},
     "output_type": "display_data"
    },
    {
     "data": {
      "text/html": [
       "<pre style=\"white-space:pre;overflow-x:auto;line-height:normal;font-family:Menlo,'DejaVu Sans Mono',consolas,'Courier New',monospace\"><span style=\"font-weight: bold\"> Total params: </span><span style=\"color: #00af00; text-decoration-color: #00af00\">2,287,933</span> (8.73 MB)\n",
       "</pre>\n"
      ],
      "text/plain": [
       "\u001b[1m Total params: \u001b[0m\u001b[38;5;34m2,287,933\u001b[0m (8.73 MB)\n"
      ]
     },
     "metadata": {},
     "output_type": "display_data"
    },
    {
     "data": {
      "text/html": [
       "<pre style=\"white-space:pre;overflow-x:auto;line-height:normal;font-family:Menlo,'DejaVu Sans Mono',consolas,'Courier New',monospace\"><span style=\"font-weight: bold\"> Trainable params: </span><span style=\"color: #00af00; text-decoration-color: #00af00\">2,287,933</span> (8.73 MB)\n",
       "</pre>\n"
      ],
      "text/plain": [
       "\u001b[1m Trainable params: \u001b[0m\u001b[38;5;34m2,287,933\u001b[0m (8.73 MB)\n"
      ]
     },
     "metadata": {},
     "output_type": "display_data"
    },
    {
     "data": {
      "text/html": [
       "<pre style=\"white-space:pre;overflow-x:auto;line-height:normal;font-family:Menlo,'DejaVu Sans Mono',consolas,'Courier New',monospace\"><span style=\"font-weight: bold\"> Non-trainable params: </span><span style=\"color: #00af00; text-decoration-color: #00af00\">0</span> (0.00 B)\n",
       "</pre>\n"
      ],
      "text/plain": [
       "\u001b[1m Non-trainable params: \u001b[0m\u001b[38;5;34m0\u001b[0m (0.00 B)\n"
      ]
     },
     "metadata": {},
     "output_type": "display_data"
    }
   ],
   "source": [
    "#Inizializzazione del modello\n",
    "model = keras.models.Sequential()\n",
    "#Aggiunta di strati\n",
    "model.add(keras.layers.LSTM(128, input_shape=(n_words, len(unique_tokens)),return_sequences=True))\n",
    "model.add(keras.layers.LSTM(128))\n",
    "model.add(keras.layers.Dense(len(unique_tokens), activation='softmax')) #Strato di NN densamente connesso\n",
    "#Compilazione del modello per il training\n",
    "opt = keras.optimizers.Adamax(learning_rate=0.01)\n",
    "model.compile(loss='categorical_crossentropy', optimizer=opt,metrics=[\"accuracy\"])\n",
    "\n",
    "#Riassunto del modello              \n",
    "model.summary()"
   ]
  },
  {
   "cell_type": "markdown",
   "id": "faac8a47",
   "metadata": {},
   "source": [
    "### 2.1.5. Training del modello"
   ]
  },
  {
   "cell_type": "code",
   "execution_count": 37,
   "id": "77e3f33a",
   "metadata": {},
   "outputs": [
    {
     "name": "stdout",
     "output_type": "stream",
     "text": [
      "Epoch 1/50\n",
      "\u001b[1m325/325\u001b[0m \u001b[32m━━━━━━━━━━━━━━━━━━━━\u001b[0m\u001b[37m\u001b[0m \u001b[1m22s\u001b[0m 51ms/step - accuracy: 0.0334 - loss: 6.4515\n",
      "Epoch 2/50\n",
      "\u001b[1m325/325\u001b[0m \u001b[32m━━━━━━━━━━━━━━━━━━━━\u001b[0m\u001b[37m\u001b[0m \u001b[1m16s\u001b[0m 50ms/step - accuracy: 0.0470 - loss: 5.8558\n",
      "Epoch 3/50\n",
      "\u001b[1m325/325\u001b[0m \u001b[32m━━━━━━━━━━━━━━━━━━━━\u001b[0m\u001b[37m\u001b[0m \u001b[1m17s\u001b[0m 51ms/step - accuracy: 0.0807 - loss: 5.4831\n",
      "Epoch 4/50\n",
      "\u001b[1m325/325\u001b[0m \u001b[32m━━━━━━━━━━━━━━━━━━━━\u001b[0m\u001b[37m\u001b[0m \u001b[1m17s\u001b[0m 51ms/step - accuracy: 0.1419 - loss: 4.9586\n",
      "Epoch 5/50\n",
      "\u001b[1m325/325\u001b[0m \u001b[32m━━━━━━━━━━━━━━━━━━━━\u001b[0m\u001b[37m\u001b[0m \u001b[1m16s\u001b[0m 50ms/step - accuracy: 0.2039 - loss: 4.4392\n",
      "Epoch 6/50\n",
      "\u001b[1m325/325\u001b[0m \u001b[32m━━━━━━━━━━━━━━━━━━━━\u001b[0m\u001b[37m\u001b[0m \u001b[1m16s\u001b[0m 50ms/step - accuracy: 0.2713 - loss: 3.9873\n",
      "Epoch 7/50\n",
      "\u001b[1m325/325\u001b[0m \u001b[32m━━━━━━━━━━━━━━━━━━━━\u001b[0m\u001b[37m\u001b[0m \u001b[1m17s\u001b[0m 51ms/step - accuracy: 0.3428 - loss: 3.5737\n",
      "Epoch 8/50\n",
      "\u001b[1m325/325\u001b[0m \u001b[32m━━━━━━━━━━━━━━━━━━━━\u001b[0m\u001b[37m\u001b[0m \u001b[1m16s\u001b[0m 50ms/step - accuracy: 0.4109 - loss: 3.1677\n",
      "Epoch 9/50\n",
      "\u001b[1m325/325\u001b[0m \u001b[32m━━━━━━━━━━━━━━━━━━━━\u001b[0m\u001b[37m\u001b[0m \u001b[1m16s\u001b[0m 51ms/step - accuracy: 0.4630 - loss: 2.8429\n",
      "Epoch 10/50\n",
      "\u001b[1m325/325\u001b[0m \u001b[32m━━━━━━━━━━━━━━━━━━━━\u001b[0m\u001b[37m\u001b[0m \u001b[1m16s\u001b[0m 50ms/step - accuracy: 0.5228 - loss: 2.5109\n",
      "Epoch 11/50\n",
      "\u001b[1m325/325\u001b[0m \u001b[32m━━━━━━━━━━━━━━━━━━━━\u001b[0m\u001b[37m\u001b[0m \u001b[1m17s\u001b[0m 51ms/step - accuracy: 0.5677 - loss: 2.2540\n",
      "Epoch 12/50\n",
      "\u001b[1m325/325\u001b[0m \u001b[32m━━━━━━━━━━━━━━━━━━━━\u001b[0m\u001b[37m\u001b[0m \u001b[1m17s\u001b[0m 52ms/step - accuracy: 0.6049 - loss: 2.0131\n",
      "Epoch 13/50\n",
      "\u001b[1m325/325\u001b[0m \u001b[32m━━━━━━━━━━━━━━━━━━━━\u001b[0m\u001b[37m\u001b[0m \u001b[1m17s\u001b[0m 51ms/step - accuracy: 0.6468 - loss: 1.7897\n",
      "Epoch 14/50\n",
      "\u001b[1m325/325\u001b[0m \u001b[32m━━━━━━━━━━━━━━━━━━━━\u001b[0m\u001b[37m\u001b[0m \u001b[1m16s\u001b[0m 51ms/step - accuracy: 0.6849 - loss: 1.5959\n",
      "Epoch 15/50\n",
      "\u001b[1m325/325\u001b[0m \u001b[32m━━━━━━━━━━━━━━━━━━━━\u001b[0m\u001b[37m\u001b[0m \u001b[1m17s\u001b[0m 52ms/step - accuracy: 0.7163 - loss: 1.4234\n",
      "Epoch 16/50\n",
      "\u001b[1m325/325\u001b[0m \u001b[32m━━━━━━━━━━━━━━━━━━━━\u001b[0m\u001b[37m\u001b[0m \u001b[1m17s\u001b[0m 51ms/step - accuracy: 0.7409 - loss: 1.2921\n",
      "Epoch 17/50\n",
      "\u001b[1m325/325\u001b[0m \u001b[32m━━━━━━━━━━━━━━━━━━━━\u001b[0m\u001b[37m\u001b[0m \u001b[1m17s\u001b[0m 51ms/step - accuracy: 0.7723 - loss: 1.1425\n",
      "Epoch 18/50\n",
      "\u001b[1m325/325\u001b[0m \u001b[32m━━━━━━━━━━━━━━━━━━━━\u001b[0m\u001b[37m\u001b[0m \u001b[1m16s\u001b[0m 51ms/step - accuracy: 0.8003 - loss: 1.0147\n",
      "Epoch 19/50\n",
      "\u001b[1m325/325\u001b[0m \u001b[32m━━━━━━━━━━━━━━━━━━━━\u001b[0m\u001b[37m\u001b[0m \u001b[1m17s\u001b[0m 51ms/step - accuracy: 0.8256 - loss: 0.8870\n",
      "Epoch 20/50\n",
      "\u001b[1m325/325\u001b[0m \u001b[32m━━━━━━━━━━━━━━━━━━━━\u001b[0m\u001b[37m\u001b[0m \u001b[1m17s\u001b[0m 51ms/step - accuracy: 0.8424 - loss: 0.8029\n",
      "Epoch 21/50\n",
      "\u001b[1m325/325\u001b[0m \u001b[32m━━━━━━━━━━━━━━━━━━━━\u001b[0m\u001b[37m\u001b[0m \u001b[1m17s\u001b[0m 51ms/step - accuracy: 0.8635 - loss: 0.6898\n",
      "Epoch 22/50\n",
      "\u001b[1m325/325\u001b[0m \u001b[32m━━━━━━━━━━━━━━━━━━━━\u001b[0m\u001b[37m\u001b[0m \u001b[1m17s\u001b[0m 51ms/step - accuracy: 0.8846 - loss: 0.5911\n",
      "Epoch 23/50\n",
      "\u001b[1m325/325\u001b[0m \u001b[32m━━━━━━━━━━━━━━━━━━━━\u001b[0m\u001b[37m\u001b[0m \u001b[1m17s\u001b[0m 51ms/step - accuracy: 0.8995 - loss: 0.5259\n",
      "Epoch 24/50\n",
      "\u001b[1m325/325\u001b[0m \u001b[32m━━━━━━━━━━━━━━━━━━━━\u001b[0m\u001b[37m\u001b[0m \u001b[1m17s\u001b[0m 54ms/step - accuracy: 0.9137 - loss: 0.4445\n",
      "Epoch 25/50\n",
      "\u001b[1m325/325\u001b[0m \u001b[32m━━━━━━━━━━━━━━━━━━━━\u001b[0m\u001b[37m\u001b[0m \u001b[1m17s\u001b[0m 52ms/step - accuracy: 0.9241 - loss: 0.3965\n",
      "Epoch 26/50\n",
      "\u001b[1m325/325\u001b[0m \u001b[32m━━━━━━━━━━━━━━━━━━━━\u001b[0m\u001b[37m\u001b[0m \u001b[1m17s\u001b[0m 51ms/step - accuracy: 0.9357 - loss: 0.3352\n",
      "Epoch 27/50\n",
      "\u001b[1m325/325\u001b[0m \u001b[32m━━━━━━━━━━━━━━━━━━━━\u001b[0m\u001b[37m\u001b[0m \u001b[1m17s\u001b[0m 52ms/step - accuracy: 0.9384 - loss: 0.3097\n",
      "Epoch 28/50\n",
      "\u001b[1m325/325\u001b[0m \u001b[32m━━━━━━━━━━━━━━━━━━━━\u001b[0m\u001b[37m\u001b[0m \u001b[1m17s\u001b[0m 51ms/step - accuracy: 0.9432 - loss: 0.2869\n",
      "Epoch 29/50\n",
      "\u001b[1m325/325\u001b[0m \u001b[32m━━━━━━━━━━━━━━━━━━━━\u001b[0m\u001b[37m\u001b[0m \u001b[1m17s\u001b[0m 52ms/step - accuracy: 0.9568 - loss: 0.2101\n",
      "Epoch 30/50\n",
      "\u001b[1m325/325\u001b[0m \u001b[32m━━━━━━━━━━━━━━━━━━━━\u001b[0m\u001b[37m\u001b[0m \u001b[1m19s\u001b[0m 57ms/step - accuracy: 0.9574 - loss: 0.1949\n",
      "Epoch 31/50\n",
      "\u001b[1m325/325\u001b[0m \u001b[32m━━━━━━━━━━━━━━━━━━━━\u001b[0m\u001b[37m\u001b[0m \u001b[1m20s\u001b[0m 62ms/step - accuracy: 0.9623 - loss: 0.1689\n",
      "Epoch 32/50\n",
      "\u001b[1m325/325\u001b[0m \u001b[32m━━━━━━━━━━━━━━━━━━━━\u001b[0m\u001b[37m\u001b[0m \u001b[1m20s\u001b[0m 62ms/step - accuracy: 0.9625 - loss: 0.1640\n",
      "Epoch 33/50\n",
      "\u001b[1m325/325\u001b[0m \u001b[32m━━━━━━━━━━━━━━━━━━━━\u001b[0m\u001b[37m\u001b[0m \u001b[1m20s\u001b[0m 63ms/step - accuracy: 0.9628 - loss: 0.1573\n",
      "Epoch 34/50\n",
      "\u001b[1m325/325\u001b[0m \u001b[32m━━━━━━━━━━━━━━━━━━━━\u001b[0m\u001b[37m\u001b[0m \u001b[1m20s\u001b[0m 62ms/step - accuracy: 0.9624 - loss: 0.1576\n",
      "Epoch 35/50\n",
      "\u001b[1m325/325\u001b[0m \u001b[32m━━━━━━━━━━━━━━━━━━━━\u001b[0m\u001b[37m\u001b[0m \u001b[1m20s\u001b[0m 62ms/step - accuracy: 0.9628 - loss: 0.1545\n",
      "Epoch 36/50\n",
      "\u001b[1m325/325\u001b[0m \u001b[32m━━━━━━━━━━━━━━━━━━━━\u001b[0m\u001b[37m\u001b[0m \u001b[1m20s\u001b[0m 62ms/step - accuracy: 0.9645 - loss: 0.1318\n",
      "Epoch 37/50\n",
      "\u001b[1m325/325\u001b[0m \u001b[32m━━━━━━━━━━━━━━━━━━━━\u001b[0m\u001b[37m\u001b[0m \u001b[1m20s\u001b[0m 60ms/step - accuracy: 0.9653 - loss: 0.1322\n",
      "Epoch 38/50\n",
      "\u001b[1m325/325\u001b[0m \u001b[32m━━━━━━━━━━━━━━━━━━━━\u001b[0m\u001b[37m\u001b[0m \u001b[1m19s\u001b[0m 59ms/step - accuracy: 0.9623 - loss: 0.1346\n",
      "Epoch 39/50\n",
      "\u001b[1m325/325\u001b[0m \u001b[32m━━━━━━━━━━━━━━━━━━━━\u001b[0m\u001b[37m\u001b[0m \u001b[1m20s\u001b[0m 62ms/step - accuracy: 0.9617 - loss: 0.1394\n",
      "Epoch 40/50\n",
      "\u001b[1m325/325\u001b[0m \u001b[32m━━━━━━━━━━━━━━━━━━━━\u001b[0m\u001b[37m\u001b[0m \u001b[1m20s\u001b[0m 63ms/step - accuracy: 0.9631 - loss: 0.1315\n",
      "Epoch 41/50\n",
      "\u001b[1m325/325\u001b[0m \u001b[32m━━━━━━━━━━━━━━━━━━━━\u001b[0m\u001b[37m\u001b[0m \u001b[1m19s\u001b[0m 59ms/step - accuracy: 0.9638 - loss: 0.1283\n",
      "Epoch 42/50\n",
      "\u001b[1m325/325\u001b[0m \u001b[32m━━━━━━━━━━━━━━━━━━━━\u001b[0m\u001b[37m\u001b[0m \u001b[1m20s\u001b[0m 62ms/step - accuracy: 0.9661 - loss: 0.1094\n",
      "Epoch 43/50\n",
      "\u001b[1m325/325\u001b[0m \u001b[32m━━━━━━━━━━━━━━━━━━━━\u001b[0m\u001b[37m\u001b[0m \u001b[1m21s\u001b[0m 63ms/step - accuracy: 0.9644 - loss: 0.1151\n",
      "Epoch 44/50\n",
      "\u001b[1m325/325\u001b[0m \u001b[32m━━━━━━━━━━━━━━━━━━━━\u001b[0m\u001b[37m\u001b[0m \u001b[1m21s\u001b[0m 63ms/step - accuracy: 0.9635 - loss: 0.1170\n",
      "Epoch 45/50\n",
      "\u001b[1m325/325\u001b[0m \u001b[32m━━━━━━━━━━━━━━━━━━━━\u001b[0m\u001b[37m\u001b[0m \u001b[1m21s\u001b[0m 63ms/step - accuracy: 0.9635 - loss: 0.1158\n",
      "Epoch 46/50\n",
      "\u001b[1m325/325\u001b[0m \u001b[32m━━━━━━━━━━━━━━━━━━━━\u001b[0m\u001b[37m\u001b[0m \u001b[1m21s\u001b[0m 63ms/step - accuracy: 0.9612 - loss: 0.1178\n",
      "Epoch 47/50\n",
      "\u001b[1m325/325\u001b[0m \u001b[32m━━━━━━━━━━━━━━━━━━━━\u001b[0m\u001b[37m\u001b[0m \u001b[1m21s\u001b[0m 63ms/step - accuracy: 0.9658 - loss: 0.1103\n",
      "Epoch 48/50\n",
      "\u001b[1m325/325\u001b[0m \u001b[32m━━━━━━━━━━━━━━━━━━━━\u001b[0m\u001b[37m\u001b[0m \u001b[1m21s\u001b[0m 63ms/step - accuracy: 0.9634 - loss: 0.1135\n",
      "Epoch 49/50\n",
      "\u001b[1m325/325\u001b[0m \u001b[32m━━━━━━━━━━━━━━━━━━━━\u001b[0m\u001b[37m\u001b[0m \u001b[1m21s\u001b[0m 63ms/step - accuracy: 0.9674 - loss: 0.1046\n",
      "Epoch 50/50\n",
      "\u001b[1m325/325\u001b[0m \u001b[32m━━━━━━━━━━━━━━━━━━━━\u001b[0m\u001b[37m\u001b[0m \u001b[1m21s\u001b[0m 63ms/step - accuracy: 0.9666 - loss: 0.1060\n"
     ]
    }
   ],
   "source": [
    "history = model.fit(X, Y, batch_size=128, epochs=50, shuffle=True)"
   ]
  },
  {
   "cell_type": "code",
   "execution_count": 38,
   "id": "e15fe633",
   "metadata": {},
   "outputs": [],
   "source": [
    "#salvo il modello\n",
    "model.save(\"mymodel.keras\")"
   ]
  },
  {
   "cell_type": "code",
   "execution_count": 40,
   "id": "9ce0e982",
   "metadata": {},
   "outputs": [
    {
     "data": {
      "text/plain": [
       "[Text(0.5, 0, 'Epochs')]"
      ]
     },
     "execution_count": 40,
     "metadata": {},
     "output_type": "execute_result"
    },
    {
     "data": {
      "image/png": "[encoded data removed]",
      "text/plain": [
       "<Figure size 1500x400 with 1 Axes>"
      ]
     },
     "metadata": {},
     "output_type": "display_data"
    }
   ],
   "source": [
    "history_df = pd.DataFrame(history.history)\n",
    "\n",
    "fig = plt.figure(figsize=(15,4), facecolor=\"#63D297\")\n",
    "fig.suptitle(\"Learning Plot of Model for Loss\")\n",
    "pl=sns.lineplot(data=history_df[\"loss\"],color=\"#444160\")\n",
    "pl.set(ylabel =\"Training Loss\")\n",
    "pl.set(xlabel =\"Epochs\")"
   ]
  },
  {
   "cell_type": "markdown",
   "id": "774f5164",
   "metadata": {},
   "source": [
    "Il modello è accurato al 96%, sarà sufficiente per i nostri fini dimostrativi"
   ]
  },
  {
   "cell_type": "code",
   "execution_count": 41,
   "id": "297a0c7b",
   "metadata": {},
   "outputs": [],
   "source": [
    "# Predizione della prossima parola\n",
    "def predict_next_word(input_text, n_best):\n",
    "    input_text= input_text.lower()\n",
    "    X = np.zeros((1, n_words, len(unique_tokens)))\n",
    "    for i, word in enumerate(input_text.split()):\n",
    "        X[0, i, unique_tokens_index[word]] = 1\n",
    "        \n",
    "    predictions=model.predict(X)[0]\n",
    "    return np.argpartition(predictions, -n_best)[-n_best:]"
   ]
  },
  {
   "cell_type": "code",
   "execution_count": 67,
   "id": "71e92e0b",
   "metadata": {},
   "outputs": [
    {
     "name": "stdout",
     "output_type": "stream",
     "text": [
      "\u001b[1m1/1\u001b[0m \u001b[32m━━━━━━━━━━━━━━━━━━━━\u001b[0m\u001b[37m\u001b[0m \u001b[1m0s\u001b[0m 46ms/step\n",
      "['one', 'i', 'ohohohohohohohohohohohoh', 'want', 'raraahahah']\n"
     ]
    }
   ],
   "source": [
    "possible = predict_next_word(\"caught in a bad\", 5)\n",
    "print([unique_tokens[idx] for idx in possible])"
   ]
  },
  {
   "cell_type": "markdown",
   "id": "7643f01a",
   "metadata": {},
   "source": [
    "## 2.2. Generazione del testo con catene di Markov\n",
    "\n",
    "Si definisce processo stocastico di Markov un <b>processo aleatorio</b> in cui la probabilità di transizione che determina il passaggio a uno stato di sistema <b>dipende solo dallo stato del sistema</b> immediatamente precedente e non da come si è giunti a questo stato. Questo processo viene rapprresentato tramite una catena.<br>\n",
    "\n",
    "Nel nostro caso utilizzeremo un <b>modello di Markov del secondo ordine</b>, in cui teniamo conto delle due parole più recenti per predire la successiva."
   ]
  },
  {
   "cell_type": "code",
   "execution_count": 23,
   "id": "dfd59e81",
   "metadata": {},
   "outputs": [],
   "source": [
    "import re\n",
    "import random\n",
    "from collections import defaultdict\n",
    "\n",
    "\n",
    "class markov:\n",
    "    def __init__(self, corpus='', order=2, length=8):\n",
    "        self.order = order\n",
    "        self.length = length\n",
    "        self.words = re.findall(\"[a-z']+\", corpus.lower())\n",
    "        self.states = defaultdict(list)\n",
    "\n",
    "        for i in range(len(self.words) - self.order):\n",
    "            self.states[tuple(self.words[i:i + self.order])].append(self.words[i + order])\n",
    "\n",
    "    def gen_sentence(self, length=8, startswith=None):\n",
    "        terms = None\n",
    "        if startswith:\n",
    "            start_seed = [x for x in self.states.keys() if startswith in x]\n",
    "            if start_seed:\n",
    "                terms = list(start_seed[0])\n",
    "        if terms is None:\n",
    "            start_seed = random.randint(0, len(self.words) - self.order)\n",
    "            terms = self.words[start_seed:start_seed + self.order]\n",
    "\n",
    "        for _ in range(length):\n",
    "            terms.append(random.choice(self.states[tuple(terms[-self.order:])]))\n",
    "\n",
    "        return ' '.join(terms)\n",
    "\n",
    "    def gen_song(self, lines=10, length=8, length_range=None, startswith=None):\n",
    "        song = []\n",
    "        if startswith:\n",
    "            song.append(self.gen_sentence(length=length, startswith=startswith))\n",
    "            lines -= 1\n",
    "        for _ in range(lines):\n",
    "            sent_len = random.randint(*length_range) if length_range else length\n",
    "            song.append(self.gen_sentence(length=sent_len))\n",
    "        return '\\n '.join(song)"
   ]
  },
  {
   "cell_type": "code",
   "execution_count": 24,
   "id": "65265e53",
   "metadata": {},
   "outputs": [
    {
     "data": {
      "text/plain": [
       "'alright cleaned a lot whats the name of\\n when im feelin no you cant say were satisfied angie\\n cause it took so long and i aint seen\\n man after him waits here ma belle amie apres tous\\n swear they still are true i really\\n we are miles apart if you give\\n hunger an endless sea all we do yeah do it\\n music makes your hair and a few other changes if you\\n ladder is waiting for her locked deep inside im so tired of\\n you cried the day throwing stones at'"
      ]
     },
     "execution_count": 24,
     "metadata": {},
     "output_type": "execute_result"
    }
   ],
   "source": [
    "# random song\n",
    "lyrics_generator = markov(corpus=' '.join(lyrics.Lyrics))\n",
    "lyrics_generator.gen_song(lines=10, length_range=[5, 10])"
   ]
  },
  {
   "cell_type": "code",
   "execution_count": 25,
   "id": "40b299a4",
   "metadata": {},
   "outputs": [
    {
     "data": {
      "text/plain": [
       "'peace love and i forgot to say i never promised\\n by me im only tryin to get off\\n opened up the booze and the bears convoy off your trip\\n over there ill take you high love is fadin i\\n something quick you gonna see inside you\\n byebye id like to ask is that\\n and free my soul i wanna rock and roll band i\\n that to the crocodile rocking is something i could\\n around me the indians said i aint got no\\n throw in my brain is squirmin like a river thats'"
      ]
     },
     "execution_count": 25,
     "metadata": {},
     "output_type": "execute_result"
    }
   ],
   "source": [
    "# song on topics\n",
    "lyrics_generator.gen_song(lines=10, length_range=[5, 10], startswith='love')"
   ]
  },
  {
   "cell_type": "code",
   "execution_count": 53,
   "id": "482182b0",
   "metadata": {},
   "outputs": [
    {
     "data": {
      "text/plain": [
       "'some vodka some chonky konk and watch tv and she\\njust chill with me oh oh oh\\ndown then we all want a bag yeah\\nworryin bout whoevers next i am with you\\nthem digits yeah dont like the ceiling cant\\na little when i think i care what you\\nshe got it girl come here boy i mustve\\nadmit it youve seen all this time im just sitting in\\nknow somebody i can turn crumbs to bricks and i dont wanna\\nthink youre replaying in my heart was a fairytale you were'"
      ]
     },
     "execution_count": 53,
     "metadata": {},
     "output_type": "execute_result"
    }
   ],
   "source": [
    "lyrics_generator.gen_song(lines=10, length_range=[5, 10], startswith='vodka')"
   ]
  },
  {
   "cell_type": "markdown",
   "id": "a9049f7a",
   "metadata": {},
   "source": [
    "## 2.3. Generazione del testo con chat GPT"
   ]
  },
  {
   "cell_type": "markdown",
   "id": "39267339",
   "metadata": {},
   "source": [
    "### 2.3.1. Cos'è ChatGPT?"
   ]
  },
  {
   "cell_type": "markdown",
   "id": "0d42c3e1",
   "metadata": {},
   "source": [
    "Per generare il testo vero e proprio attraverso cui trarremo le nostre conclusioni è **ChatGPT** nella sua versione gpt-4o.<br>\n",
    "\n",
    "ChatGPT è un **trasformatore generativo pre-allenato** (Generative Pre-trained Transformer) sottoforma di Chat bot. Il suo compito è quello di prendere in input una domanda da parte di un utente per poter **generare una risposta in linguaggio naturale** ed informativa. La versione GPT-4o è in anche grado di elaborare diversi tipi di file, anche vocali.<br>\n",
    "\n",
    "Alla base di questo tool c'è un **LLM** (Large Language Model), motivo per cui è in grado di simulare il linguaggio naturale.<br>\n",
    "\n",
    "Introduciamo brevemente i concetti di trasformatore e di LLM.<br>"
   ]
  },
  {
   "cell_type": "markdown",
   "id": "65929cfc",
   "metadata": {},
   "source": [
    "### 2.3.2. Trasformatori"
   ]
  },
  {
   "cell_type": "markdown",
   "id": "cc52cd18",
   "metadata": {},
   "source": [
    "Nel contesto dell'intelligenza artificiale, un trasformatore è un tipo di modello di deep learning utilizzato principalmente per compiti di <b>elaborazione del linguaggio naturale (NLP)</b>. \n",
    "\n",
    "Introdotto nel 2017 nel documento **\"Attention is All You Need\"**, il trasformatore ha rivoluzionato il campo del NLP grazie alla sua capacità di gestire in modo efficace la **dipendenza a lungo termine nei dati sequenziali**.<br>\n",
    "\n",
    "La struttura di un trasformatore è di tipo **encoder-decoder**, a cui si aggiungono elementi (e.g. attention) per ottimizzare l'elaborazione dei dati.<br>\n",
    "\n",
    "Il compito dell'<b>encoder</b> è prendere una sequenza di input e trasformarla in una rappresentazione densa. È costituito da una serie di strati, ognuno dei quali contiene sotto-strati di attenzione e di feed-forward.<br>\n",
    "\n",
    "Il <b>decoder</b> prende la rappresentazione densa prodotta dall'encoder e genera la sequenza di output. Anche il decoder è costituito da una serie di strati simili a quelli dell'encoder, ma con meccanismi aggiuntivi per gestire l'input precedente nella sequenza di output.<br>\n",
    "\n",
    "Il meccanismo di <b>self-attention</b> permette al modello di pesare l'importanza di diverse parti della sequenza di input per ogni parte della stessa sequenza. Ogni elemento della sequenza può \"prestare attenzione\" a ogni altro elemento, calcolando dei pesi di attenzione.<br>\n",
    "\n",
    "Ogni strato dell'encoder e del decoder contiene una rete neurale <b>feed-forward</b> completamente connessa, che elabora la rappresentazione ottenuta dallo strato di self-attention."
   ]
  },
  {
   "cell_type": "markdown",
   "id": "6ac101a8",
   "metadata": {},
   "source": [
    "### 2.3.3. LLM"
   ]
  },
  {
   "cell_type": "markdown",
   "id": "bee204b7",
   "metadata": {},
   "source": [
    "Un **LLM (Large Language Model)** è un tipo di modello di intelligenza artificiale basato su architetture di deep learning, progettato per **comprendere e generare testo umano** in modo coerente e contestualmente rilevante.<br>\n",
    "\n",
    "Gli LLM sono **addestrati su vasti corpus di testo** e utilizzano modelli come i trasformatori per acquisire una profonda comprensione delle strutture linguistiche.<br>\n",
    "\n",
    "Gli LLM sono inizialmente addestrati su grandi quantità di testo (spesso l'intero corpus di Internet) con obiettivi di apprendimento non supervisionati, come la predizione della parola successiva (per modelli generativi) o la mascheratura di parole.<br>\n",
    "\n",
    "Gli LLM hanno un **numero estremamente elevato di parametri** (miliardi), che rappresentano la capacità del modello di apprendere e memorizzare informazioni. Più parametri ha un modello, maggiore è la sua capacità di rappresentare conoscenze complesse.<br>\n",
    "\n",
    "Molti LLM, come GPT, utilizzano solo la parte decoder di un trasformatore per la generazione del testo. Altri modelli, come **BERT** (Bidirectional Encoder Representations from Transformers), utilizzano solo l'encoder per compiti di comprensione del testo."
   ]
  },
  {
   "cell_type": "markdown",
   "id": "7e819443",
   "metadata": {},
   "source": [
    "### 2.2.4. L'importanza del prompt"
   ]
  },
  {
   "cell_type": "markdown",
   "id": "2c330993",
   "metadata": {},
   "source": [
    "Per ottenere una risposta soddisfacente è indispensabile formulare bene il prompt (la domanda).\n",
    "Il prompt deve contenere tutte le indicazioni che permettano di generare la risposta che si sta cercando."
   ]
  },
  {
   "cell_type": "markdown",
   "id": "cfe7fbbe",
   "metadata": {},
   "source": [
    "### 2.2.5. Valutazione del testo generato"
   ]
  },
  {
   "cell_type": "code",
   "execution_count": 24,
   "id": "212f288e",
   "metadata": {},
   "outputs": [
    {
     "name": "stdout",
     "output_type": "stream",
     "text": [
      "//PROMPT 1:Hello! I am analizing a dataset containing information about songs that were in the billboard top 100 \n",
      "between the years 2010 and 2020(year 2020 excluded). These information are: Song title, Artist, Lyrics, Ranking and \n",
      "Year). To confirm the results of my analysis, I need you to generate new lyrics for a new song that would rank for \n",
      "sure in this kind of ranking based only on the songs that were in this ranking in the years I told you (from 2010 \n",
      "until 2020 excluded). Can you do this? Remember to not consider any additional information: it's important to consider\n",
      " just the songs that are in the rankings and their lyrics to not compromise the result of my analysis. I just need the\n",
      " lyrics without any further information about its structure(such as verses, choruses...consider it but don't print out\n",
      " the structure while printing the song). \n",
      "\n",
      "Sure, I can generate new lyrics inspired by the songs that were in the Billboard Top 100 between 2010 and 2019. Here are the lyrics:\n",
      "\n",
      "---\n",
      "\n",
      "Turn up the lights, let's go all night,  \n",
      "Feeling the beat, everything's alright,  \n",
      "You and me, we got that vibe,  \n",
      "Living our dream, side by side.\n",
      "\n",
      "Lost in the rhythm, hearts on fire,  \n",
      "We keep on moving, never tire,  \n",
      "City lights shining bright,  \n",
      "Together we rise, into the night.\n",
      "\n",
      "Love is our anthem, can't deny,  \n",
      "With you, I touch the sky,  \n",
      "Holding on, never letting go,  \n",
      "This is our moment, let it flow.\n",
      "\n",
      "Dancing through life, no regrets,  \n",
      "Making memories we'll never forget,  \n",
      "Hands up, feeling free,  \n",
      "This is our story, you and me.\n",
      "\n",
      "Chasing dreams, we won't look back,  \n",
      "On this journey, we stay on track,  \n",
      "Sing our song, loud and clear,  \n",
      "With you, I've got no fear.\n",
      "\n",
      "In this world, just you and I,  \n",
      "With every beat, we reach the sky,  \n",
      "Forever young, hearts collide,  \n",
      "In this love, we'll always ride.\n",
      "\n",
      "---\n",
      "\n",
      "These lyrics capture the themes of love, freedom, and celebration that are common in many popular songs from 2010 to \n",
      "2019.\n"
     ]
    }
   ],
   "source": [
    "file = open(\"chatgpt_twentytens.txt\", 'r')\n",
    "content = file.read()\n",
    "print(content)"
   ]
  },
  {
   "cell_type": "markdown",
   "id": "a18947e7",
   "metadata": {},
   "source": [
    "Il contenuto del testo generato dall'LLM contiene effettivamente elementi estratti dalle analisi effettuate precedentemente nel notebook. Sono presenti sia alcuni dei temi individuati, sia alcuni dei termini più comuni. "
   ]
  }
 ],
 "metadata": {
  "kernelspec": {
   "display_name": "Python 3 (ipykernel)",
   "language": "python",
   "name": "python3"
  },
  "language_info": {
   "codemirror_mode": {
    "name": "ipython",
    "version": 3
   },
   "file_extension": ".py",
   "mimetype": "text/x-python",
   "name": "python",
   "nbconvert_exporter": "python",
   "pygments_lexer": "ipython3",
   "version": "3.11.5"
  }
 },
 "nbformat": 4,
 "nbformat_minor": 5
}
